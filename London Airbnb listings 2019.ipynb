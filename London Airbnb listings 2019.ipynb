{
 "cells": [
  {
   "cell_type": "markdown",
   "metadata": {},
   "source": [
    "## Loading libraries"
   ]
  },
  {
   "cell_type": "code",
   "execution_count": 1,
   "metadata": {},
   "outputs": [],
   "source": [
    "%load_ext autoreload\n",
    "%autoreload 2"
   ]
  },
  {
   "cell_type": "code",
   "execution_count": 82,
   "metadata": {},
   "outputs": [],
   "source": [
    "import pandas as pd\n",
    "import numpy as np\n",
    "from external_modules.shuyu import *"
   ]
  },
  {
   "cell_type": "code",
   "execution_count": 3,
   "metadata": {},
   "outputs": [],
   "source": [
    "airbnb_df =[]\n",
    "for m in ['jan','feb','mar','apr','may','jun','jul','aug','sep','nov']:\n",
    "    airbnb_df.append(pd.read_csv('data/listings_{}.csv'.format(m), parse_dates=['last_review']))"
   ]
  },
  {
   "cell_type": "markdown",
   "metadata": {},
   "source": [
    "## Concat dateframes into one"
   ]
  },
  {
   "cell_type": "code",
   "execution_count": 4,
   "metadata": {},
   "outputs": [],
   "source": [
    "airbnb_df_2019 = pd.concat(airbnb_df)"
   ]
  },
  {
   "cell_type": "code",
   "execution_count": 5,
   "metadata": {},
   "outputs": [
    {
     "data": {
      "text/html": [
       "<div>\n",
       "<style scoped>\n",
       "    .dataframe tbody tr th:only-of-type {\n",
       "        vertical-align: middle;\n",
       "    }\n",
       "\n",
       "    .dataframe tbody tr th {\n",
       "        vertical-align: top;\n",
       "    }\n",
       "\n",
       "    .dataframe thead th {\n",
       "        text-align: right;\n",
       "    }\n",
       "</style>\n",
       "<table border=\"1\" class=\"dataframe\">\n",
       "  <thead>\n",
       "    <tr style=\"text-align: right;\">\n",
       "      <th></th>\n",
       "      <th>id</th>\n",
       "      <th>name</th>\n",
       "      <th>host_id</th>\n",
       "      <th>host_name</th>\n",
       "      <th>neighbourhood_group</th>\n",
       "      <th>neighbourhood</th>\n",
       "      <th>latitude</th>\n",
       "      <th>longitude</th>\n",
       "      <th>room_type</th>\n",
       "      <th>price</th>\n",
       "      <th>minimum_nights</th>\n",
       "      <th>number_of_reviews</th>\n",
       "      <th>last_review</th>\n",
       "      <th>reviews_per_month</th>\n",
       "      <th>calculated_host_listings_count</th>\n",
       "      <th>availability_365</th>\n",
       "    </tr>\n",
       "  </thead>\n",
       "  <tbody>\n",
       "    <tr>\n",
       "      <th>0</th>\n",
       "      <td>9554</td>\n",
       "      <td>Cozy, 3 minutes to Piccadilly Line</td>\n",
       "      <td>31655</td>\n",
       "      <td>Guy</td>\n",
       "      <td>NaN</td>\n",
       "      <td>Haringey</td>\n",
       "      <td>51.587767</td>\n",
       "      <td>-0.105666</td>\n",
       "      <td>Private room</td>\n",
       "      <td>35</td>\n",
       "      <td>1</td>\n",
       "      <td>134</td>\n",
       "      <td>2019-01-01</td>\n",
       "      <td>1.64</td>\n",
       "      <td>4</td>\n",
       "      <td>0</td>\n",
       "    </tr>\n",
       "    <tr>\n",
       "      <th>1</th>\n",
       "      <td>25123</td>\n",
       "      <td>Clean big Room in London (Room 1)</td>\n",
       "      <td>103583</td>\n",
       "      <td>Grace</td>\n",
       "      <td>NaN</td>\n",
       "      <td>Barnet</td>\n",
       "      <td>51.572243</td>\n",
       "      <td>-0.209060</td>\n",
       "      <td>Private room</td>\n",
       "      <td>29</td>\n",
       "      <td>15</td>\n",
       "      <td>118</td>\n",
       "      <td>2018-11-01</td>\n",
       "      <td>1.11</td>\n",
       "      <td>4</td>\n",
       "      <td>0</td>\n",
       "    </tr>\n",
       "    <tr>\n",
       "      <th>2</th>\n",
       "      <td>28010</td>\n",
       "      <td>LOVELY Dbl Bedroom in Shoreditch!</td>\n",
       "      <td>119316</td>\n",
       "      <td>Valentina</td>\n",
       "      <td>NaN</td>\n",
       "      <td>Tower Hamlets</td>\n",
       "      <td>51.524969</td>\n",
       "      <td>-0.073727</td>\n",
       "      <td>Private room</td>\n",
       "      <td>50</td>\n",
       "      <td>3</td>\n",
       "      <td>38</td>\n",
       "      <td>2018-01-02</td>\n",
       "      <td>0.48</td>\n",
       "      <td>3</td>\n",
       "      <td>81</td>\n",
       "    </tr>\n",
       "    <tr>\n",
       "      <th>3</th>\n",
       "      <td>33332</td>\n",
       "      <td>Twickenham Stadium &amp; Wimbledon easy reach Ensuite</td>\n",
       "      <td>144444</td>\n",
       "      <td>Chi-Chi</td>\n",
       "      <td>NaN</td>\n",
       "      <td>Hounslow</td>\n",
       "      <td>51.465074</td>\n",
       "      <td>-0.324207</td>\n",
       "      <td>Private room</td>\n",
       "      <td>100</td>\n",
       "      <td>1</td>\n",
       "      <td>4</td>\n",
       "      <td>2018-11-04</td>\n",
       "      <td>0.04</td>\n",
       "      <td>2</td>\n",
       "      <td>365</td>\n",
       "    </tr>\n",
       "    <tr>\n",
       "      <th>4</th>\n",
       "      <td>36299</td>\n",
       "      <td>Kew Gardens 3BR house in cul-de-sac</td>\n",
       "      <td>155938</td>\n",
       "      <td>Geert</td>\n",
       "      <td>NaN</td>\n",
       "      <td>Richmond upon Thames</td>\n",
       "      <td>51.479345</td>\n",
       "      <td>-0.280662</td>\n",
       "      <td>Entire home/apt</td>\n",
       "      <td>195</td>\n",
       "      <td>3</td>\n",
       "      <td>63</td>\n",
       "      <td>2018-12-30</td>\n",
       "      <td>0.63</td>\n",
       "      <td>1</td>\n",
       "      <td>279</td>\n",
       "    </tr>\n",
       "    <tr>\n",
       "      <th>...</th>\n",
       "      <td>...</td>\n",
       "      <td>...</td>\n",
       "      <td>...</td>\n",
       "      <td>...</td>\n",
       "      <td>...</td>\n",
       "      <td>...</td>\n",
       "      <td>...</td>\n",
       "      <td>...</td>\n",
       "      <td>...</td>\n",
       "      <td>...</td>\n",
       "      <td>...</td>\n",
       "      <td>...</td>\n",
       "      <td>...</td>\n",
       "      <td>...</td>\n",
       "      <td>...</td>\n",
       "      <td>...</td>\n",
       "    </tr>\n",
       "    <tr>\n",
       "      <th>85063</th>\n",
       "      <td>38398365</td>\n",
       "      <td>Beautiful flat in Central London</td>\n",
       "      <td>24782379</td>\n",
       "      <td>Shabnam</td>\n",
       "      <td>NaN</td>\n",
       "      <td>Lambeth</td>\n",
       "      <td>51.486010</td>\n",
       "      <td>-0.127660</td>\n",
       "      <td>Entire home/apt</td>\n",
       "      <td>117</td>\n",
       "      <td>3</td>\n",
       "      <td>2</td>\n",
       "      <td>2019-11-04</td>\n",
       "      <td>2.00</td>\n",
       "      <td>1</td>\n",
       "      <td>59</td>\n",
       "    </tr>\n",
       "    <tr>\n",
       "      <th>85064</th>\n",
       "      <td>39869123</td>\n",
       "      <td>Elegant stylish modern house with amazing view!</td>\n",
       "      <td>21145791</td>\n",
       "      <td>Ingrid</td>\n",
       "      <td>NaN</td>\n",
       "      <td>Merton</td>\n",
       "      <td>51.406280</td>\n",
       "      <td>-0.232440</td>\n",
       "      <td>Private room</td>\n",
       "      <td>69</td>\n",
       "      <td>2</td>\n",
       "      <td>0</td>\n",
       "      <td>NaT</td>\n",
       "      <td>NaN</td>\n",
       "      <td>2</td>\n",
       "      <td>113</td>\n",
       "    </tr>\n",
       "    <tr>\n",
       "      <th>85065</th>\n",
       "      <td>39869214</td>\n",
       "      <td>Holland Road - Kensington Olympia</td>\n",
       "      <td>251922260</td>\n",
       "      <td>Christian</td>\n",
       "      <td>NaN</td>\n",
       "      <td>Hammersmith and Fulham</td>\n",
       "      <td>51.502440</td>\n",
       "      <td>-0.215470</td>\n",
       "      <td>Entire home/apt</td>\n",
       "      <td>90</td>\n",
       "      <td>3</td>\n",
       "      <td>0</td>\n",
       "      <td>NaT</td>\n",
       "      <td>NaN</td>\n",
       "      <td>4</td>\n",
       "      <td>63</td>\n",
       "    </tr>\n",
       "    <tr>\n",
       "      <th>85066</th>\n",
       "      <td>39869249</td>\n",
       "      <td>Functional single room 18 min to London Bridge</td>\n",
       "      <td>255372486</td>\n",
       "      <td>Nudrat</td>\n",
       "      <td>NaN</td>\n",
       "      <td>Bromley</td>\n",
       "      <td>51.357420</td>\n",
       "      <td>0.107640</td>\n",
       "      <td>Private room</td>\n",
       "      <td>30</td>\n",
       "      <td>2</td>\n",
       "      <td>0</td>\n",
       "      <td>NaT</td>\n",
       "      <td>NaN</td>\n",
       "      <td>4</td>\n",
       "      <td>1</td>\n",
       "    </tr>\n",
       "    <tr>\n",
       "      <th>85067</th>\n",
       "      <td>39869282</td>\n",
       "      <td>EXQUISITE APARTMENT, PEACEFUL ENVIRONMENT IN SOHO</td>\n",
       "      <td>210531062</td>\n",
       "      <td>Radi</td>\n",
       "      <td>NaN</td>\n",
       "      <td>Westminster</td>\n",
       "      <td>51.510900</td>\n",
       "      <td>-0.124800</td>\n",
       "      <td>Entire home/apt</td>\n",
       "      <td>187</td>\n",
       "      <td>1</td>\n",
       "      <td>0</td>\n",
       "      <td>NaT</td>\n",
       "      <td>NaN</td>\n",
       "      <td>1</td>\n",
       "      <td>311</td>\n",
       "    </tr>\n",
       "  </tbody>\n",
       "</table>\n",
       "<p>817579 rows × 16 columns</p>\n",
       "</div>"
      ],
      "text/plain": [
       "             id                                               name    host_id  \\\n",
       "0          9554                 Cozy, 3 minutes to Piccadilly Line      31655   \n",
       "1         25123                  Clean big Room in London (Room 1)     103583   \n",
       "2         28010                  LOVELY Dbl Bedroom in Shoreditch!     119316   \n",
       "3         33332  Twickenham Stadium & Wimbledon easy reach Ensuite     144444   \n",
       "4         36299                Kew Gardens 3BR house in cul-de-sac     155938   \n",
       "...         ...                                                ...        ...   \n",
       "85063  38398365                   Beautiful flat in Central London   24782379   \n",
       "85064  39869123    Elegant stylish modern house with amazing view!   21145791   \n",
       "85065  39869214                  Holland Road - Kensington Olympia  251922260   \n",
       "85066  39869249     Functional single room 18 min to London Bridge  255372486   \n",
       "85067  39869282  EXQUISITE APARTMENT, PEACEFUL ENVIRONMENT IN SOHO  210531062   \n",
       "\n",
       "       host_name  neighbourhood_group           neighbourhood   latitude  \\\n",
       "0            Guy                  NaN                Haringey  51.587767   \n",
       "1          Grace                  NaN                  Barnet  51.572243   \n",
       "2      Valentina                  NaN           Tower Hamlets  51.524969   \n",
       "3        Chi-Chi                  NaN                Hounslow  51.465074   \n",
       "4          Geert                  NaN    Richmond upon Thames  51.479345   \n",
       "...          ...                  ...                     ...        ...   \n",
       "85063    Shabnam                  NaN                 Lambeth  51.486010   \n",
       "85064     Ingrid                  NaN                  Merton  51.406280   \n",
       "85065  Christian                  NaN  Hammersmith and Fulham  51.502440   \n",
       "85066     Nudrat                  NaN                 Bromley  51.357420   \n",
       "85067       Radi                  NaN             Westminster  51.510900   \n",
       "\n",
       "       longitude        room_type  price  minimum_nights  number_of_reviews  \\\n",
       "0      -0.105666     Private room     35               1                134   \n",
       "1      -0.209060     Private room     29              15                118   \n",
       "2      -0.073727     Private room     50               3                 38   \n",
       "3      -0.324207     Private room    100               1                  4   \n",
       "4      -0.280662  Entire home/apt    195               3                 63   \n",
       "...          ...              ...    ...             ...                ...   \n",
       "85063  -0.127660  Entire home/apt    117               3                  2   \n",
       "85064  -0.232440     Private room     69               2                  0   \n",
       "85065  -0.215470  Entire home/apt     90               3                  0   \n",
       "85066   0.107640     Private room     30               2                  0   \n",
       "85067  -0.124800  Entire home/apt    187               1                  0   \n",
       "\n",
       "      last_review  reviews_per_month  calculated_host_listings_count  \\\n",
       "0      2019-01-01               1.64                               4   \n",
       "1      2018-11-01               1.11                               4   \n",
       "2      2018-01-02               0.48                               3   \n",
       "3      2018-11-04               0.04                               2   \n",
       "4      2018-12-30               0.63                               1   \n",
       "...           ...                ...                             ...   \n",
       "85063  2019-11-04               2.00                               1   \n",
       "85064         NaT                NaN                               2   \n",
       "85065         NaT                NaN                               4   \n",
       "85066         NaT                NaN                               4   \n",
       "85067         NaT                NaN                               1   \n",
       "\n",
       "       availability_365  \n",
       "0                     0  \n",
       "1                     0  \n",
       "2                    81  \n",
       "3                   365  \n",
       "4                   279  \n",
       "...                 ...  \n",
       "85063                59  \n",
       "85064               113  \n",
       "85065                63  \n",
       "85066                 1  \n",
       "85067               311  \n",
       "\n",
       "[817579 rows x 16 columns]"
      ]
     },
     "execution_count": 5,
     "metadata": {},
     "output_type": "execute_result"
    }
   ],
   "source": [
    "airbnb_df_2019"
   ]
  },
  {
   "cell_type": "markdown",
   "metadata": {},
   "source": [
    "## Data cleaning and feature engineering"
   ]
  },
  {
   "cell_type": "markdown",
   "metadata": {},
   "source": [
    "### check dtypes"
   ]
  },
  {
   "cell_type": "code",
   "execution_count": 6,
   "metadata": {},
   "outputs": [
    {
     "data": {
      "text/plain": [
       "id                                         int64\n",
       "name                                      object\n",
       "host_id                                    int64\n",
       "host_name                                 object\n",
       "neighbourhood_group                      float64\n",
       "neighbourhood                             object\n",
       "latitude                                 float64\n",
       "longitude                                float64\n",
       "room_type                                 object\n",
       "price                                      int64\n",
       "minimum_nights                             int64\n",
       "number_of_reviews                          int64\n",
       "last_review                       datetime64[ns]\n",
       "reviews_per_month                        float64\n",
       "calculated_host_listings_count             int64\n",
       "availability_365                           int64\n",
       "dtype: object"
      ]
     },
     "execution_count": 6,
     "metadata": {},
     "output_type": "execute_result"
    }
   ],
   "source": [
    "airbnb_df_2019.dtypes"
   ]
  },
  {
   "cell_type": "markdown",
   "metadata": {},
   "source": [
    "### drop missing value columns"
   ]
  },
  {
   "cell_type": "code",
   "execution_count": 7,
   "metadata": {},
   "outputs": [
    {
     "data": {
      "text/plain": [
       "id                                     0\n",
       "name                                 266\n",
       "host_id                                0\n",
       "host_name                            472\n",
       "neighbourhood_group               817579\n",
       "neighbourhood                          0\n",
       "latitude                               0\n",
       "longitude                              0\n",
       "room_type                              0\n",
       "price                                  0\n",
       "minimum_nights                         0\n",
       "number_of_reviews                      0\n",
       "last_review                       203879\n",
       "reviews_per_month                 203879\n",
       "calculated_host_listings_count         0\n",
       "availability_365                       0\n",
       "dtype: int64"
      ]
     },
     "execution_count": 7,
     "metadata": {},
     "output_type": "execute_result"
    }
   ],
   "source": [
    "airbnb_df_2019.isnull().sum()"
   ]
  },
  {
   "cell_type": "code",
   "execution_count": 8,
   "metadata": {},
   "outputs": [],
   "source": [
    "airbnb_df_2019.drop(['name','host_name','neighbourhood_group'], axis=1,inplace=True)"
   ]
  },
  {
   "cell_type": "code",
   "execution_count": 9,
   "metadata": {},
   "outputs": [
    {
     "data": {
      "text/plain": [
       "id                                     0\n",
       "host_id                                0\n",
       "neighbourhood                          0\n",
       "latitude                               0\n",
       "longitude                              0\n",
       "room_type                              0\n",
       "price                                  0\n",
       "minimum_nights                         0\n",
       "number_of_reviews                      0\n",
       "last_review                       203879\n",
       "reviews_per_month                 203879\n",
       "calculated_host_listings_count         0\n",
       "availability_365                       0\n",
       "dtype: int64"
      ]
     },
     "execution_count": 9,
     "metadata": {},
     "output_type": "execute_result"
    }
   ],
   "source": [
    "airbnb_df_2019.isnull().sum()"
   ]
  },
  {
   "cell_type": "markdown",
   "metadata": {},
   "source": [
    "### check catgorical variables"
   ]
  },
  {
   "cell_type": "code",
   "execution_count": 10,
   "metadata": {},
   "outputs": [],
   "source": [
    "cat_var=[]\n",
    "for column in airbnb_df_2019.columns:\n",
    "    if airbnb_df_2019[column].dtype=='object':\n",
    "        cat_var.append(column)"
   ]
  },
  {
   "cell_type": "code",
   "execution_count": 11,
   "metadata": {},
   "outputs": [
    {
     "data": {
      "text/plain": [
       "['neighbourhood', 'room_type']"
      ]
     },
     "execution_count": 11,
     "metadata": {},
     "output_type": "execute_result"
    }
   ],
   "source": [
    "cat_var"
   ]
  },
  {
   "cell_type": "markdown",
   "metadata": {},
   "source": [
    "### change object dtypes to catgorical codes"
   ]
  },
  {
   "cell_type": "code",
   "execution_count": 18,
   "metadata": {},
   "outputs": [],
   "source": [
    "train_cats(airbnb_df_2019)"
   ]
  },
  {
   "cell_type": "code",
   "execution_count": 19,
   "metadata": {},
   "outputs": [
    {
     "data": {
      "text/plain": [
       "id                                         int64\n",
       "host_id                                    int64\n",
       "neighbourhood                           category\n",
       "latitude                                 float64\n",
       "longitude                                float64\n",
       "room_type                               category\n",
       "price                                      int64\n",
       "minimum_nights                             int64\n",
       "number_of_reviews                          int64\n",
       "last_review                       datetime64[ns]\n",
       "reviews_per_month                        float64\n",
       "calculated_host_listings_count             int64\n",
       "availability_365                           int64\n",
       "dtype: object"
      ]
     },
     "execution_count": 19,
     "metadata": {},
     "output_type": "execute_result"
    }
   ],
   "source": [
    "airbnb_df_2019.dtypes"
   ]
  },
  {
   "cell_type": "code",
   "execution_count": 20,
   "metadata": {},
   "outputs": [],
   "source": [
    "for _ in cat_var:\n",
    "    airbnb_df_2019[_] = airbnb_df_2019[_].cat.codes"
   ]
  },
  {
   "cell_type": "code",
   "execution_count": 77,
   "metadata": {},
   "outputs": [
    {
     "data": {
      "text/plain": [
       "id                                         int64\n",
       "host_id                                    int64\n",
       "neighbourhood                               int8\n",
       "latitude                                 float64\n",
       "longitude                                float64\n",
       "room_type                                   int8\n",
       "price                                      int64\n",
       "minimum_nights                             int64\n",
       "number_of_reviews                          int64\n",
       "last_review                       datetime64[ns]\n",
       "reviews_per_month                        float64\n",
       "calculated_host_listings_count             int64\n",
       "availability_365                           int64\n",
       "dtype: object"
      ]
     },
     "execution_count": 77,
     "metadata": {},
     "output_type": "execute_result"
    }
   ],
   "source": [
    "airbnb_df_2019.dtypes"
   ]
  },
  {
   "cell_type": "code",
   "execution_count": 72,
   "metadata": {},
   "outputs": [],
   "source": [
    "fix_missing(airbnb_df_2019,'reviews_per_month')"
   ]
  },
  {
   "cell_type": "code",
   "execution_count": 80,
   "metadata": {},
   "outputs": [
    {
     "data": {
      "text/plain": [
       "True"
      ]
     },
     "execution_count": 80,
     "metadata": {},
     "output_type": "execute_result"
    }
   ],
   "source": [
    "airbnb_df_2019['last_review'].dtypes == 'datetime64[ns]'"
   ]
  },
  {
   "cell_type": "code",
   "execution_count": 84,
   "metadata": {},
   "outputs": [],
   "source": [
    "fix_missing_date(airbnb_df_2019, 'last_review')"
   ]
  },
  {
   "cell_type": "code",
   "execution_count": 85,
   "metadata": {
    "scrolled": true
   },
   "outputs": [
    {
     "data": {
      "text/plain": [
       "id                                0\n",
       "host_id                           0\n",
       "neighbourhood                     0\n",
       "latitude                          0\n",
       "longitude                         0\n",
       "room_type                         0\n",
       "price                             0\n",
       "minimum_nights                    0\n",
       "number_of_reviews                 0\n",
       "last_review                       0\n",
       "reviews_per_month                 0\n",
       "calculated_host_listings_count    0\n",
       "availability_365                  0\n",
       "dtype: int64"
      ]
     },
     "execution_count": 85,
     "metadata": {},
     "output_type": "execute_result"
    }
   ],
   "source": [
    "airbnb_df_2019.isnull().sum()"
   ]
  },
  {
   "cell_type": "code",
   "execution_count": 86,
   "metadata": {},
   "outputs": [
    {
     "data": {
      "text/plain": [
       "id                                         int64\n",
       "host_id                                    int64\n",
       "neighbourhood                               int8\n",
       "latitude                                 float64\n",
       "longitude                                float64\n",
       "room_type                                   int8\n",
       "price                                      int64\n",
       "minimum_nights                             int64\n",
       "number_of_reviews                          int64\n",
       "last_review                       datetime64[ns]\n",
       "reviews_per_month                        float64\n",
       "calculated_host_listings_count             int64\n",
       "availability_365                           int64\n",
       "dtype: object"
      ]
     },
     "execution_count": 86,
     "metadata": {},
     "output_type": "execute_result"
    }
   ],
   "source": [
    "airbnb_df_2019.dtypes"
   ]
  },
  {
   "cell_type": "code",
   "execution_count": 88,
   "metadata": {},
   "outputs": [
    {
     "data": {
      "text/html": [
       "<div>\n",
       "<style scoped>\n",
       "    .dataframe tbody tr th:only-of-type {\n",
       "        vertical-align: middle;\n",
       "    }\n",
       "\n",
       "    .dataframe tbody tr th {\n",
       "        vertical-align: top;\n",
       "    }\n",
       "\n",
       "    .dataframe thead th {\n",
       "        text-align: right;\n",
       "    }\n",
       "</style>\n",
       "<table border=\"1\" class=\"dataframe\">\n",
       "  <thead>\n",
       "    <tr style=\"text-align: right;\">\n",
       "      <th></th>\n",
       "      <th>id</th>\n",
       "      <th>host_id</th>\n",
       "      <th>neighbourhood</th>\n",
       "      <th>latitude</th>\n",
       "      <th>longitude</th>\n",
       "      <th>room_type</th>\n",
       "      <th>price</th>\n",
       "      <th>minimum_nights</th>\n",
       "      <th>number_of_reviews</th>\n",
       "      <th>last_review</th>\n",
       "      <th>reviews_per_month</th>\n",
       "      <th>calculated_host_listings_count</th>\n",
       "      <th>availability_365</th>\n",
       "    </tr>\n",
       "  </thead>\n",
       "  <tbody>\n",
       "    <tr>\n",
       "      <th>0</th>\n",
       "      <td>9554</td>\n",
       "      <td>31655</td>\n",
       "      <td>13</td>\n",
       "      <td>51.587767</td>\n",
       "      <td>-0.105666</td>\n",
       "      <td>2</td>\n",
       "      <td>35</td>\n",
       "      <td>1</td>\n",
       "      <td>134</td>\n",
       "      <td>2019-01-01</td>\n",
       "      <td>1.64</td>\n",
       "      <td>4</td>\n",
       "      <td>0</td>\n",
       "    </tr>\n",
       "    <tr>\n",
       "      <th>1</th>\n",
       "      <td>25123</td>\n",
       "      <td>103583</td>\n",
       "      <td>1</td>\n",
       "      <td>51.572243</td>\n",
       "      <td>-0.209060</td>\n",
       "      <td>2</td>\n",
       "      <td>29</td>\n",
       "      <td>15</td>\n",
       "      <td>118</td>\n",
       "      <td>2018-11-01</td>\n",
       "      <td>1.11</td>\n",
       "      <td>4</td>\n",
       "      <td>0</td>\n",
       "    </tr>\n",
       "    <tr>\n",
       "      <th>2</th>\n",
       "      <td>28010</td>\n",
       "      <td>119316</td>\n",
       "      <td>29</td>\n",
       "      <td>51.524969</td>\n",
       "      <td>-0.073727</td>\n",
       "      <td>2</td>\n",
       "      <td>50</td>\n",
       "      <td>3</td>\n",
       "      <td>38</td>\n",
       "      <td>2018-01-02</td>\n",
       "      <td>0.48</td>\n",
       "      <td>3</td>\n",
       "      <td>81</td>\n",
       "    </tr>\n",
       "    <tr>\n",
       "      <th>3</th>\n",
       "      <td>33332</td>\n",
       "      <td>144444</td>\n",
       "      <td>17</td>\n",
       "      <td>51.465074</td>\n",
       "      <td>-0.324207</td>\n",
       "      <td>2</td>\n",
       "      <td>100</td>\n",
       "      <td>1</td>\n",
       "      <td>4</td>\n",
       "      <td>2018-11-04</td>\n",
       "      <td>0.04</td>\n",
       "      <td>2</td>\n",
       "      <td>365</td>\n",
       "    </tr>\n",
       "    <tr>\n",
       "      <th>4</th>\n",
       "      <td>36299</td>\n",
       "      <td>155938</td>\n",
       "      <td>26</td>\n",
       "      <td>51.479345</td>\n",
       "      <td>-0.280662</td>\n",
       "      <td>0</td>\n",
       "      <td>195</td>\n",
       "      <td>3</td>\n",
       "      <td>63</td>\n",
       "      <td>2018-12-30</td>\n",
       "      <td>0.63</td>\n",
       "      <td>1</td>\n",
       "      <td>279</td>\n",
       "    </tr>\n",
       "    <tr>\n",
       "      <th>...</th>\n",
       "      <td>...</td>\n",
       "      <td>...</td>\n",
       "      <td>...</td>\n",
       "      <td>...</td>\n",
       "      <td>...</td>\n",
       "      <td>...</td>\n",
       "      <td>...</td>\n",
       "      <td>...</td>\n",
       "      <td>...</td>\n",
       "      <td>...</td>\n",
       "      <td>...</td>\n",
       "      <td>...</td>\n",
       "      <td>...</td>\n",
       "    </tr>\n",
       "    <tr>\n",
       "      <th>85063</th>\n",
       "      <td>38398365</td>\n",
       "      <td>24782379</td>\n",
       "      <td>21</td>\n",
       "      <td>51.486010</td>\n",
       "      <td>-0.127660</td>\n",
       "      <td>0</td>\n",
       "      <td>117</td>\n",
       "      <td>3</td>\n",
       "      <td>2</td>\n",
       "      <td>2019-11-04</td>\n",
       "      <td>2.00</td>\n",
       "      <td>1</td>\n",
       "      <td>59</td>\n",
       "    </tr>\n",
       "    <tr>\n",
       "      <th>85064</th>\n",
       "      <td>39869123</td>\n",
       "      <td>21145791</td>\n",
       "      <td>23</td>\n",
       "      <td>51.406280</td>\n",
       "      <td>-0.232440</td>\n",
       "      <td>2</td>\n",
       "      <td>69</td>\n",
       "      <td>2</td>\n",
       "      <td>0</td>\n",
       "      <td>2019-12-31</td>\n",
       "      <td>0.72</td>\n",
       "      <td>2</td>\n",
       "      <td>113</td>\n",
       "    </tr>\n",
       "    <tr>\n",
       "      <th>85065</th>\n",
       "      <td>39869214</td>\n",
       "      <td>251922260</td>\n",
       "      <td>12</td>\n",
       "      <td>51.502440</td>\n",
       "      <td>-0.215470</td>\n",
       "      <td>0</td>\n",
       "      <td>90</td>\n",
       "      <td>3</td>\n",
       "      <td>0</td>\n",
       "      <td>2019-12-31</td>\n",
       "      <td>0.72</td>\n",
       "      <td>4</td>\n",
       "      <td>63</td>\n",
       "    </tr>\n",
       "    <tr>\n",
       "      <th>85066</th>\n",
       "      <td>39869249</td>\n",
       "      <td>255372486</td>\n",
       "      <td>4</td>\n",
       "      <td>51.357420</td>\n",
       "      <td>0.107640</td>\n",
       "      <td>2</td>\n",
       "      <td>30</td>\n",
       "      <td>2</td>\n",
       "      <td>0</td>\n",
       "      <td>2019-12-31</td>\n",
       "      <td>0.72</td>\n",
       "      <td>4</td>\n",
       "      <td>1</td>\n",
       "    </tr>\n",
       "    <tr>\n",
       "      <th>85067</th>\n",
       "      <td>39869282</td>\n",
       "      <td>210531062</td>\n",
       "      <td>32</td>\n",
       "      <td>51.510900</td>\n",
       "      <td>-0.124800</td>\n",
       "      <td>0</td>\n",
       "      <td>187</td>\n",
       "      <td>1</td>\n",
       "      <td>0</td>\n",
       "      <td>2019-12-31</td>\n",
       "      <td>0.72</td>\n",
       "      <td>1</td>\n",
       "      <td>311</td>\n",
       "    </tr>\n",
       "  </tbody>\n",
       "</table>\n",
       "<p>817579 rows × 13 columns</p>\n",
       "</div>"
      ],
      "text/plain": [
       "             id    host_id  neighbourhood   latitude  longitude  room_type  \\\n",
       "0          9554      31655             13  51.587767  -0.105666          2   \n",
       "1         25123     103583              1  51.572243  -0.209060          2   \n",
       "2         28010     119316             29  51.524969  -0.073727          2   \n",
       "3         33332     144444             17  51.465074  -0.324207          2   \n",
       "4         36299     155938             26  51.479345  -0.280662          0   \n",
       "...         ...        ...            ...        ...        ...        ...   \n",
       "85063  38398365   24782379             21  51.486010  -0.127660          0   \n",
       "85064  39869123   21145791             23  51.406280  -0.232440          2   \n",
       "85065  39869214  251922260             12  51.502440  -0.215470          0   \n",
       "85066  39869249  255372486              4  51.357420   0.107640          2   \n",
       "85067  39869282  210531062             32  51.510900  -0.124800          0   \n",
       "\n",
       "       price  minimum_nights  number_of_reviews last_review  \\\n",
       "0         35               1                134  2019-01-01   \n",
       "1         29              15                118  2018-11-01   \n",
       "2         50               3                 38  2018-01-02   \n",
       "3        100               1                  4  2018-11-04   \n",
       "4        195               3                 63  2018-12-30   \n",
       "...      ...             ...                ...         ...   \n",
       "85063    117               3                  2  2019-11-04   \n",
       "85064     69               2                  0  2019-12-31   \n",
       "85065     90               3                  0  2019-12-31   \n",
       "85066     30               2                  0  2019-12-31   \n",
       "85067    187               1                  0  2019-12-31   \n",
       "\n",
       "       reviews_per_month  calculated_host_listings_count  availability_365  \n",
       "0                   1.64                               4                 0  \n",
       "1                   1.11                               4                 0  \n",
       "2                   0.48                               3                81  \n",
       "3                   0.04                               2               365  \n",
       "4                   0.63                               1               279  \n",
       "...                  ...                             ...               ...  \n",
       "85063               2.00                               1                59  \n",
       "85064               0.72                               2               113  \n",
       "85065               0.72                               4                63  \n",
       "85066               0.72                               4                 1  \n",
       "85067               0.72                               1               311  \n",
       "\n",
       "[817579 rows x 13 columns]"
      ]
     },
     "execution_count": 88,
     "metadata": {},
     "output_type": "execute_result"
    }
   ],
   "source": [
    "airbnb_df_2019"
   ]
  },
  {
   "cell_type": "markdown",
   "metadata": {},
   "source": [
    "## Data visualization"
   ]
  },
  {
   "cell_type": "code",
   "execution_count": null,
   "metadata": {},
   "outputs": [],
   "source": []
  }
 ],
 "metadata": {
  "kernelspec": {
   "display_name": "Python 3",
   "language": "python",
   "name": "python3"
  },
  "language_info": {
   "codemirror_mode": {
    "name": "ipython",
    "version": 3
   },
   "file_extension": ".py",
   "mimetype": "text/x-python",
   "name": "python",
   "nbconvert_exporter": "python",
   "pygments_lexer": "ipython3",
   "version": "3.6.8"
  }
 },
 "nbformat": 4,
 "nbformat_minor": 2
}
