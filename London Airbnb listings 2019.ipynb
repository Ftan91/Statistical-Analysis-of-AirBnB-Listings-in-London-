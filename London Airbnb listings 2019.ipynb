{
 "cells": [
  {
   "cell_type": "markdown",
   "metadata": {},
   "source": [
    "## Loading libraries"
   ]
  },
  {
   "cell_type": "code",
   "execution_count": 1,
   "metadata": {},
   "outputs": [],
   "source": [
    "%load_ext autoreload\n",
    "%autoreload 2"
   ]
  },
  {
   "cell_type": "code",
   "execution_count": 111,
   "metadata": {},
   "outputs": [],
   "source": [
    "import pandas as pd\n",
    "import numpy as np\n",
    "from external_modules.shuyu import *\n",
    "import seaborn as sns; sns.set()\n",
    "import matplotlib.pyplot as plt\n",
    "import scipy\n",
    "import itertools # for combinations\n"
   ]
  },
  {
   "cell_type": "code",
   "execution_count": 3,
   "metadata": {},
   "outputs": [],
   "source": [
    "airbnb_df =[]\n",
    "for m in ['jan','feb','mar','apr','may','jun','jul','aug','sep','nov']:\n",
    "    airbnb_df.append(pd.read_csv('data/listings_{}.csv'.format(m), parse_dates=['last_review']))"
   ]
  },
  {
   "cell_type": "markdown",
   "metadata": {},
   "source": [
    "## Concat dateframes into one"
   ]
  },
  {
   "cell_type": "code",
   "execution_count": 107,
   "metadata": {},
   "outputs": [],
   "source": [
    "airbnb_df_2019 = pd.concat(airbnb_df)"
   ]
  },
  {
   "cell_type": "code",
   "execution_count": 108,
   "metadata": {},
   "outputs": [
    {
     "data": {
      "text/html": [
       "<div>\n",
       "<style scoped>\n",
       "    .dataframe tbody tr th:only-of-type {\n",
       "        vertical-align: middle;\n",
       "    }\n",
       "\n",
       "    .dataframe tbody tr th {\n",
       "        vertical-align: top;\n",
       "    }\n",
       "\n",
       "    .dataframe thead th {\n",
       "        text-align: right;\n",
       "    }\n",
       "</style>\n",
       "<table border=\"1\" class=\"dataframe\">\n",
       "  <thead>\n",
       "    <tr style=\"text-align: right;\">\n",
       "      <th></th>\n",
       "      <th>id</th>\n",
       "      <th>name</th>\n",
       "      <th>host_id</th>\n",
       "      <th>host_name</th>\n",
       "      <th>neighbourhood_group</th>\n",
       "      <th>neighbourhood</th>\n",
       "      <th>latitude</th>\n",
       "      <th>longitude</th>\n",
       "      <th>room_type</th>\n",
       "      <th>price</th>\n",
       "      <th>minimum_nights</th>\n",
       "      <th>number_of_reviews</th>\n",
       "      <th>last_review</th>\n",
       "      <th>reviews_per_month</th>\n",
       "      <th>calculated_host_listings_count</th>\n",
       "      <th>availability_365</th>\n",
       "    </tr>\n",
       "  </thead>\n",
       "  <tbody>\n",
       "    <tr>\n",
       "      <th>0</th>\n",
       "      <td>9554</td>\n",
       "      <td>Cozy, 3 minutes to Piccadilly Line</td>\n",
       "      <td>31655</td>\n",
       "      <td>Guy</td>\n",
       "      <td>NaN</td>\n",
       "      <td>Haringey</td>\n",
       "      <td>51.587767</td>\n",
       "      <td>-0.105666</td>\n",
       "      <td>Private room</td>\n",
       "      <td>35</td>\n",
       "      <td>1</td>\n",
       "      <td>134</td>\n",
       "      <td>2019-01-01</td>\n",
       "      <td>1.64</td>\n",
       "      <td>4</td>\n",
       "      <td>0</td>\n",
       "    </tr>\n",
       "    <tr>\n",
       "      <th>1</th>\n",
       "      <td>25123</td>\n",
       "      <td>Clean big Room in London (Room 1)</td>\n",
       "      <td>103583</td>\n",
       "      <td>Grace</td>\n",
       "      <td>NaN</td>\n",
       "      <td>Barnet</td>\n",
       "      <td>51.572243</td>\n",
       "      <td>-0.209060</td>\n",
       "      <td>Private room</td>\n",
       "      <td>29</td>\n",
       "      <td>15</td>\n",
       "      <td>118</td>\n",
       "      <td>2018-11-01</td>\n",
       "      <td>1.11</td>\n",
       "      <td>4</td>\n",
       "      <td>0</td>\n",
       "    </tr>\n",
       "    <tr>\n",
       "      <th>2</th>\n",
       "      <td>28010</td>\n",
       "      <td>LOVELY Dbl Bedroom in Shoreditch!</td>\n",
       "      <td>119316</td>\n",
       "      <td>Valentina</td>\n",
       "      <td>NaN</td>\n",
       "      <td>Tower Hamlets</td>\n",
       "      <td>51.524969</td>\n",
       "      <td>-0.073727</td>\n",
       "      <td>Private room</td>\n",
       "      <td>50</td>\n",
       "      <td>3</td>\n",
       "      <td>38</td>\n",
       "      <td>2018-01-02</td>\n",
       "      <td>0.48</td>\n",
       "      <td>3</td>\n",
       "      <td>81</td>\n",
       "    </tr>\n",
       "    <tr>\n",
       "      <th>3</th>\n",
       "      <td>33332</td>\n",
       "      <td>Twickenham Stadium &amp; Wimbledon easy reach Ensuite</td>\n",
       "      <td>144444</td>\n",
       "      <td>Chi-Chi</td>\n",
       "      <td>NaN</td>\n",
       "      <td>Hounslow</td>\n",
       "      <td>51.465074</td>\n",
       "      <td>-0.324207</td>\n",
       "      <td>Private room</td>\n",
       "      <td>100</td>\n",
       "      <td>1</td>\n",
       "      <td>4</td>\n",
       "      <td>2018-11-04</td>\n",
       "      <td>0.04</td>\n",
       "      <td>2</td>\n",
       "      <td>365</td>\n",
       "    </tr>\n",
       "    <tr>\n",
       "      <th>4</th>\n",
       "      <td>36299</td>\n",
       "      <td>Kew Gardens 3BR house in cul-de-sac</td>\n",
       "      <td>155938</td>\n",
       "      <td>Geert</td>\n",
       "      <td>NaN</td>\n",
       "      <td>Richmond upon Thames</td>\n",
       "      <td>51.479345</td>\n",
       "      <td>-0.280662</td>\n",
       "      <td>Entire home/apt</td>\n",
       "      <td>195</td>\n",
       "      <td>3</td>\n",
       "      <td>63</td>\n",
       "      <td>2018-12-30</td>\n",
       "      <td>0.63</td>\n",
       "      <td>1</td>\n",
       "      <td>279</td>\n",
       "    </tr>\n",
       "    <tr>\n",
       "      <th>...</th>\n",
       "      <td>...</td>\n",
       "      <td>...</td>\n",
       "      <td>...</td>\n",
       "      <td>...</td>\n",
       "      <td>...</td>\n",
       "      <td>...</td>\n",
       "      <td>...</td>\n",
       "      <td>...</td>\n",
       "      <td>...</td>\n",
       "      <td>...</td>\n",
       "      <td>...</td>\n",
       "      <td>...</td>\n",
       "      <td>...</td>\n",
       "      <td>...</td>\n",
       "      <td>...</td>\n",
       "      <td>...</td>\n",
       "    </tr>\n",
       "    <tr>\n",
       "      <th>85063</th>\n",
       "      <td>38398365</td>\n",
       "      <td>Beautiful flat in Central London</td>\n",
       "      <td>24782379</td>\n",
       "      <td>Shabnam</td>\n",
       "      <td>NaN</td>\n",
       "      <td>Lambeth</td>\n",
       "      <td>51.486010</td>\n",
       "      <td>-0.127660</td>\n",
       "      <td>Entire home/apt</td>\n",
       "      <td>117</td>\n",
       "      <td>3</td>\n",
       "      <td>2</td>\n",
       "      <td>2019-11-04</td>\n",
       "      <td>2.00</td>\n",
       "      <td>1</td>\n",
       "      <td>59</td>\n",
       "    </tr>\n",
       "    <tr>\n",
       "      <th>85064</th>\n",
       "      <td>39869123</td>\n",
       "      <td>Elegant stylish modern house with amazing view!</td>\n",
       "      <td>21145791</td>\n",
       "      <td>Ingrid</td>\n",
       "      <td>NaN</td>\n",
       "      <td>Merton</td>\n",
       "      <td>51.406280</td>\n",
       "      <td>-0.232440</td>\n",
       "      <td>Private room</td>\n",
       "      <td>69</td>\n",
       "      <td>2</td>\n",
       "      <td>0</td>\n",
       "      <td>NaT</td>\n",
       "      <td>NaN</td>\n",
       "      <td>2</td>\n",
       "      <td>113</td>\n",
       "    </tr>\n",
       "    <tr>\n",
       "      <th>85065</th>\n",
       "      <td>39869214</td>\n",
       "      <td>Holland Road - Kensington Olympia</td>\n",
       "      <td>251922260</td>\n",
       "      <td>Christian</td>\n",
       "      <td>NaN</td>\n",
       "      <td>Hammersmith and Fulham</td>\n",
       "      <td>51.502440</td>\n",
       "      <td>-0.215470</td>\n",
       "      <td>Entire home/apt</td>\n",
       "      <td>90</td>\n",
       "      <td>3</td>\n",
       "      <td>0</td>\n",
       "      <td>NaT</td>\n",
       "      <td>NaN</td>\n",
       "      <td>4</td>\n",
       "      <td>63</td>\n",
       "    </tr>\n",
       "    <tr>\n",
       "      <th>85066</th>\n",
       "      <td>39869249</td>\n",
       "      <td>Functional single room 18 min to London Bridge</td>\n",
       "      <td>255372486</td>\n",
       "      <td>Nudrat</td>\n",
       "      <td>NaN</td>\n",
       "      <td>Bromley</td>\n",
       "      <td>51.357420</td>\n",
       "      <td>0.107640</td>\n",
       "      <td>Private room</td>\n",
       "      <td>30</td>\n",
       "      <td>2</td>\n",
       "      <td>0</td>\n",
       "      <td>NaT</td>\n",
       "      <td>NaN</td>\n",
       "      <td>4</td>\n",
       "      <td>1</td>\n",
       "    </tr>\n",
       "    <tr>\n",
       "      <th>85067</th>\n",
       "      <td>39869282</td>\n",
       "      <td>EXQUISITE APARTMENT, PEACEFUL ENVIRONMENT IN SOHO</td>\n",
       "      <td>210531062</td>\n",
       "      <td>Radi</td>\n",
       "      <td>NaN</td>\n",
       "      <td>Westminster</td>\n",
       "      <td>51.510900</td>\n",
       "      <td>-0.124800</td>\n",
       "      <td>Entire home/apt</td>\n",
       "      <td>187</td>\n",
       "      <td>1</td>\n",
       "      <td>0</td>\n",
       "      <td>NaT</td>\n",
       "      <td>NaN</td>\n",
       "      <td>1</td>\n",
       "      <td>311</td>\n",
       "    </tr>\n",
       "  </tbody>\n",
       "</table>\n",
       "<p>817579 rows × 16 columns</p>\n",
       "</div>"
      ],
      "text/plain": [
       "             id                                               name    host_id  \\\n",
       "0          9554                 Cozy, 3 minutes to Piccadilly Line      31655   \n",
       "1         25123                  Clean big Room in London (Room 1)     103583   \n",
       "2         28010                  LOVELY Dbl Bedroom in Shoreditch!     119316   \n",
       "3         33332  Twickenham Stadium & Wimbledon easy reach Ensuite     144444   \n",
       "4         36299                Kew Gardens 3BR house in cul-de-sac     155938   \n",
       "...         ...                                                ...        ...   \n",
       "85063  38398365                   Beautiful flat in Central London   24782379   \n",
       "85064  39869123    Elegant stylish modern house with amazing view!   21145791   \n",
       "85065  39869214                  Holland Road - Kensington Olympia  251922260   \n",
       "85066  39869249     Functional single room 18 min to London Bridge  255372486   \n",
       "85067  39869282  EXQUISITE APARTMENT, PEACEFUL ENVIRONMENT IN SOHO  210531062   \n",
       "\n",
       "       host_name  neighbourhood_group           neighbourhood   latitude  \\\n",
       "0            Guy                  NaN                Haringey  51.587767   \n",
       "1          Grace                  NaN                  Barnet  51.572243   \n",
       "2      Valentina                  NaN           Tower Hamlets  51.524969   \n",
       "3        Chi-Chi                  NaN                Hounslow  51.465074   \n",
       "4          Geert                  NaN    Richmond upon Thames  51.479345   \n",
       "...          ...                  ...                     ...        ...   \n",
       "85063    Shabnam                  NaN                 Lambeth  51.486010   \n",
       "85064     Ingrid                  NaN                  Merton  51.406280   \n",
       "85065  Christian                  NaN  Hammersmith and Fulham  51.502440   \n",
       "85066     Nudrat                  NaN                 Bromley  51.357420   \n",
       "85067       Radi                  NaN             Westminster  51.510900   \n",
       "\n",
       "       longitude        room_type  price  minimum_nights  number_of_reviews  \\\n",
       "0      -0.105666     Private room     35               1                134   \n",
       "1      -0.209060     Private room     29              15                118   \n",
       "2      -0.073727     Private room     50               3                 38   \n",
       "3      -0.324207     Private room    100               1                  4   \n",
       "4      -0.280662  Entire home/apt    195               3                 63   \n",
       "...          ...              ...    ...             ...                ...   \n",
       "85063  -0.127660  Entire home/apt    117               3                  2   \n",
       "85064  -0.232440     Private room     69               2                  0   \n",
       "85065  -0.215470  Entire home/apt     90               3                  0   \n",
       "85066   0.107640     Private room     30               2                  0   \n",
       "85067  -0.124800  Entire home/apt    187               1                  0   \n",
       "\n",
       "      last_review  reviews_per_month  calculated_host_listings_count  \\\n",
       "0      2019-01-01               1.64                               4   \n",
       "1      2018-11-01               1.11                               4   \n",
       "2      2018-01-02               0.48                               3   \n",
       "3      2018-11-04               0.04                               2   \n",
       "4      2018-12-30               0.63                               1   \n",
       "...           ...                ...                             ...   \n",
       "85063  2019-11-04               2.00                               1   \n",
       "85064         NaT                NaN                               2   \n",
       "85065         NaT                NaN                               4   \n",
       "85066         NaT                NaN                               4   \n",
       "85067         NaT                NaN                               1   \n",
       "\n",
       "       availability_365  \n",
       "0                     0  \n",
       "1                     0  \n",
       "2                    81  \n",
       "3                   365  \n",
       "4                   279  \n",
       "...                 ...  \n",
       "85063                59  \n",
       "85064               113  \n",
       "85065                63  \n",
       "85066                 1  \n",
       "85067               311  \n",
       "\n",
       "[817579 rows x 16 columns]"
      ]
     },
     "execution_count": 108,
     "metadata": {},
     "output_type": "execute_result"
    }
   ],
   "source": [
    "airbnb_df_2019"
   ]
  },
  {
   "cell_type": "markdown",
   "metadata": {},
   "source": [
    "## Data cleaning and feature engineering"
   ]
  },
  {
   "cell_type": "markdown",
   "metadata": {},
   "source": [
    "### check dtypes"
   ]
  },
  {
   "cell_type": "code",
   "execution_count": 6,
   "metadata": {},
   "outputs": [
    {
     "data": {
      "text/plain": [
       "id                                         int64\n",
       "name                                      object\n",
       "host_id                                    int64\n",
       "host_name                                 object\n",
       "neighbourhood_group                      float64\n",
       "neighbourhood                             object\n",
       "latitude                                 float64\n",
       "longitude                                float64\n",
       "room_type                                 object\n",
       "price                                      int64\n",
       "minimum_nights                             int64\n",
       "number_of_reviews                          int64\n",
       "last_review                       datetime64[ns]\n",
       "reviews_per_month                        float64\n",
       "calculated_host_listings_count             int64\n",
       "availability_365                           int64\n",
       "dtype: object"
      ]
     },
     "execution_count": 6,
     "metadata": {},
     "output_type": "execute_result"
    }
   ],
   "source": [
    "airbnb_df_2019.dtypes"
   ]
  },
  {
   "cell_type": "markdown",
   "metadata": {},
   "source": [
    "### drop missing value columns"
   ]
  },
  {
   "cell_type": "code",
   "execution_count": 7,
   "metadata": {},
   "outputs": [
    {
     "data": {
      "text/plain": [
       "id                                     0\n",
       "name                                 266\n",
       "host_id                                0\n",
       "host_name                            472\n",
       "neighbourhood_group               817579\n",
       "neighbourhood                          0\n",
       "latitude                               0\n",
       "longitude                              0\n",
       "room_type                              0\n",
       "price                                  0\n",
       "minimum_nights                         0\n",
       "number_of_reviews                      0\n",
       "last_review                       203879\n",
       "reviews_per_month                 203879\n",
       "calculated_host_listings_count         0\n",
       "availability_365                       0\n",
       "dtype: int64"
      ]
     },
     "execution_count": 7,
     "metadata": {},
     "output_type": "execute_result"
    }
   ],
   "source": [
    "airbnb_df_2019.isnull().sum()"
   ]
  },
  {
   "cell_type": "code",
   "execution_count": 109,
   "metadata": {},
   "outputs": [],
   "source": [
    "airbnb_df_2019.drop(['host_name','neighbourhood_group'], axis=1,inplace=True)"
   ]
  },
  {
   "cell_type": "code",
   "execution_count": 110,
   "metadata": {},
   "outputs": [
    {
     "data": {
      "text/plain": [
       "id                                     0\n",
       "name                                 266\n",
       "host_id                                0\n",
       "neighbourhood                          0\n",
       "latitude                               0\n",
       "longitude                              0\n",
       "room_type                              0\n",
       "price                                  0\n",
       "minimum_nights                         0\n",
       "number_of_reviews                      0\n",
       "last_review                       203879\n",
       "reviews_per_month                 203879\n",
       "calculated_host_listings_count         0\n",
       "availability_365                       0\n",
       "dtype: int64"
      ]
     },
     "execution_count": 110,
     "metadata": {},
     "output_type": "execute_result"
    }
   ],
   "source": [
    "airbnb_df_2019.isnull().sum()"
   ]
  },
  {
   "cell_type": "markdown",
   "metadata": {},
   "source": [
    "### create a column of length of the name"
   ]
  },
  {
   "cell_type": "markdown",
   "metadata": {},
   "source": [
    "We will treat missng valyes equal to zero"
   ]
  },
  {
   "cell_type": "code",
   "execution_count": 112,
   "metadata": {},
   "outputs": [],
   "source": [
    "fix_missing_name(airbnb_df_2019,'name')"
   ]
  },
  {
   "cell_type": "code",
   "execution_count": 124,
   "metadata": {},
   "outputs": [],
   "source": [
    "airbnb_df_2019['name_len'] = airbnb_df_2019['name'].apply(lambda x:len(str(x).split()))"
   ]
  },
  {
   "cell_type": "code",
   "execution_count": 125,
   "metadata": {},
   "outputs": [
    {
     "data": {
      "text/html": [
       "<div>\n",
       "<style scoped>\n",
       "    .dataframe tbody tr th:only-of-type {\n",
       "        vertical-align: middle;\n",
       "    }\n",
       "\n",
       "    .dataframe tbody tr th {\n",
       "        vertical-align: top;\n",
       "    }\n",
       "\n",
       "    .dataframe thead th {\n",
       "        text-align: right;\n",
       "    }\n",
       "</style>\n",
       "<table border=\"1\" class=\"dataframe\">\n",
       "  <thead>\n",
       "    <tr style=\"text-align: right;\">\n",
       "      <th></th>\n",
       "      <th>id</th>\n",
       "      <th>name</th>\n",
       "      <th>host_id</th>\n",
       "      <th>neighbourhood</th>\n",
       "      <th>latitude</th>\n",
       "      <th>longitude</th>\n",
       "      <th>room_type</th>\n",
       "      <th>price</th>\n",
       "      <th>minimum_nights</th>\n",
       "      <th>number_of_reviews</th>\n",
       "      <th>last_review</th>\n",
       "      <th>reviews_per_month</th>\n",
       "      <th>calculated_host_listings_count</th>\n",
       "      <th>availability_365</th>\n",
       "      <th>name_len</th>\n",
       "    </tr>\n",
       "  </thead>\n",
       "  <tbody>\n",
       "    <tr>\n",
       "      <th>0</th>\n",
       "      <td>9554</td>\n",
       "      <td>Cozy, 3 minutes to Piccadilly Line</td>\n",
       "      <td>31655</td>\n",
       "      <td>Haringey</td>\n",
       "      <td>51.587767</td>\n",
       "      <td>-0.105666</td>\n",
       "      <td>Private room</td>\n",
       "      <td>35</td>\n",
       "      <td>1</td>\n",
       "      <td>134</td>\n",
       "      <td>2019-01-01</td>\n",
       "      <td>1.64</td>\n",
       "      <td>4</td>\n",
       "      <td>0</td>\n",
       "      <td>6</td>\n",
       "    </tr>\n",
       "    <tr>\n",
       "      <th>1</th>\n",
       "      <td>25123</td>\n",
       "      <td>Clean big Room in London (Room 1)</td>\n",
       "      <td>103583</td>\n",
       "      <td>Barnet</td>\n",
       "      <td>51.572243</td>\n",
       "      <td>-0.209060</td>\n",
       "      <td>Private room</td>\n",
       "      <td>29</td>\n",
       "      <td>15</td>\n",
       "      <td>118</td>\n",
       "      <td>2018-11-01</td>\n",
       "      <td>1.11</td>\n",
       "      <td>4</td>\n",
       "      <td>0</td>\n",
       "      <td>7</td>\n",
       "    </tr>\n",
       "    <tr>\n",
       "      <th>2</th>\n",
       "      <td>28010</td>\n",
       "      <td>LOVELY Dbl Bedroom in Shoreditch!</td>\n",
       "      <td>119316</td>\n",
       "      <td>Tower Hamlets</td>\n",
       "      <td>51.524969</td>\n",
       "      <td>-0.073727</td>\n",
       "      <td>Private room</td>\n",
       "      <td>50</td>\n",
       "      <td>3</td>\n",
       "      <td>38</td>\n",
       "      <td>2018-01-02</td>\n",
       "      <td>0.48</td>\n",
       "      <td>3</td>\n",
       "      <td>81</td>\n",
       "      <td>5</td>\n",
       "    </tr>\n",
       "    <tr>\n",
       "      <th>3</th>\n",
       "      <td>33332</td>\n",
       "      <td>Twickenham Stadium &amp; Wimbledon easy reach Ensuite</td>\n",
       "      <td>144444</td>\n",
       "      <td>Hounslow</td>\n",
       "      <td>51.465074</td>\n",
       "      <td>-0.324207</td>\n",
       "      <td>Private room</td>\n",
       "      <td>100</td>\n",
       "      <td>1</td>\n",
       "      <td>4</td>\n",
       "      <td>2018-11-04</td>\n",
       "      <td>0.04</td>\n",
       "      <td>2</td>\n",
       "      <td>365</td>\n",
       "      <td>7</td>\n",
       "    </tr>\n",
       "    <tr>\n",
       "      <th>4</th>\n",
       "      <td>36299</td>\n",
       "      <td>Kew Gardens 3BR house in cul-de-sac</td>\n",
       "      <td>155938</td>\n",
       "      <td>Richmond upon Thames</td>\n",
       "      <td>51.479345</td>\n",
       "      <td>-0.280662</td>\n",
       "      <td>Entire home/apt</td>\n",
       "      <td>195</td>\n",
       "      <td>3</td>\n",
       "      <td>63</td>\n",
       "      <td>2018-12-30</td>\n",
       "      <td>0.63</td>\n",
       "      <td>1</td>\n",
       "      <td>279</td>\n",
       "      <td>6</td>\n",
       "    </tr>\n",
       "    <tr>\n",
       "      <th>...</th>\n",
       "      <td>...</td>\n",
       "      <td>...</td>\n",
       "      <td>...</td>\n",
       "      <td>...</td>\n",
       "      <td>...</td>\n",
       "      <td>...</td>\n",
       "      <td>...</td>\n",
       "      <td>...</td>\n",
       "      <td>...</td>\n",
       "      <td>...</td>\n",
       "      <td>...</td>\n",
       "      <td>...</td>\n",
       "      <td>...</td>\n",
       "      <td>...</td>\n",
       "      <td>...</td>\n",
       "    </tr>\n",
       "    <tr>\n",
       "      <th>85063</th>\n",
       "      <td>38398365</td>\n",
       "      <td>Beautiful flat in Central London</td>\n",
       "      <td>24782379</td>\n",
       "      <td>Lambeth</td>\n",
       "      <td>51.486010</td>\n",
       "      <td>-0.127660</td>\n",
       "      <td>Entire home/apt</td>\n",
       "      <td>117</td>\n",
       "      <td>3</td>\n",
       "      <td>2</td>\n",
       "      <td>2019-11-04</td>\n",
       "      <td>2.00</td>\n",
       "      <td>1</td>\n",
       "      <td>59</td>\n",
       "      <td>5</td>\n",
       "    </tr>\n",
       "    <tr>\n",
       "      <th>85064</th>\n",
       "      <td>39869123</td>\n",
       "      <td>Elegant stylish modern house with amazing view!</td>\n",
       "      <td>21145791</td>\n",
       "      <td>Merton</td>\n",
       "      <td>51.406280</td>\n",
       "      <td>-0.232440</td>\n",
       "      <td>Private room</td>\n",
       "      <td>69</td>\n",
       "      <td>2</td>\n",
       "      <td>0</td>\n",
       "      <td>NaT</td>\n",
       "      <td>NaN</td>\n",
       "      <td>2</td>\n",
       "      <td>113</td>\n",
       "      <td>7</td>\n",
       "    </tr>\n",
       "    <tr>\n",
       "      <th>85065</th>\n",
       "      <td>39869214</td>\n",
       "      <td>Holland Road - Kensington Olympia</td>\n",
       "      <td>251922260</td>\n",
       "      <td>Hammersmith and Fulham</td>\n",
       "      <td>51.502440</td>\n",
       "      <td>-0.215470</td>\n",
       "      <td>Entire home/apt</td>\n",
       "      <td>90</td>\n",
       "      <td>3</td>\n",
       "      <td>0</td>\n",
       "      <td>NaT</td>\n",
       "      <td>NaN</td>\n",
       "      <td>4</td>\n",
       "      <td>63</td>\n",
       "      <td>5</td>\n",
       "    </tr>\n",
       "    <tr>\n",
       "      <th>85066</th>\n",
       "      <td>39869249</td>\n",
       "      <td>Functional single room 18 min to London Bridge</td>\n",
       "      <td>255372486</td>\n",
       "      <td>Bromley</td>\n",
       "      <td>51.357420</td>\n",
       "      <td>0.107640</td>\n",
       "      <td>Private room</td>\n",
       "      <td>30</td>\n",
       "      <td>2</td>\n",
       "      <td>0</td>\n",
       "      <td>NaT</td>\n",
       "      <td>NaN</td>\n",
       "      <td>4</td>\n",
       "      <td>1</td>\n",
       "      <td>8</td>\n",
       "    </tr>\n",
       "    <tr>\n",
       "      <th>85067</th>\n",
       "      <td>39869282</td>\n",
       "      <td>EXQUISITE APARTMENT, PEACEFUL ENVIRONMENT IN SOHO</td>\n",
       "      <td>210531062</td>\n",
       "      <td>Westminster</td>\n",
       "      <td>51.510900</td>\n",
       "      <td>-0.124800</td>\n",
       "      <td>Entire home/apt</td>\n",
       "      <td>187</td>\n",
       "      <td>1</td>\n",
       "      <td>0</td>\n",
       "      <td>NaT</td>\n",
       "      <td>NaN</td>\n",
       "      <td>1</td>\n",
       "      <td>311</td>\n",
       "      <td>6</td>\n",
       "    </tr>\n",
       "  </tbody>\n",
       "</table>\n",
       "<p>817579 rows × 15 columns</p>\n",
       "</div>"
      ],
      "text/plain": [
       "             id                                               name    host_id  \\\n",
       "0          9554                 Cozy, 3 minutes to Piccadilly Line      31655   \n",
       "1         25123                  Clean big Room in London (Room 1)     103583   \n",
       "2         28010                  LOVELY Dbl Bedroom in Shoreditch!     119316   \n",
       "3         33332  Twickenham Stadium & Wimbledon easy reach Ensuite     144444   \n",
       "4         36299                Kew Gardens 3BR house in cul-de-sac     155938   \n",
       "...         ...                                                ...        ...   \n",
       "85063  38398365                   Beautiful flat in Central London   24782379   \n",
       "85064  39869123    Elegant stylish modern house with amazing view!   21145791   \n",
       "85065  39869214                  Holland Road - Kensington Olympia  251922260   \n",
       "85066  39869249     Functional single room 18 min to London Bridge  255372486   \n",
       "85067  39869282  EXQUISITE APARTMENT, PEACEFUL ENVIRONMENT IN SOHO  210531062   \n",
       "\n",
       "                neighbourhood   latitude  longitude        room_type  price  \\\n",
       "0                    Haringey  51.587767  -0.105666     Private room     35   \n",
       "1                      Barnet  51.572243  -0.209060     Private room     29   \n",
       "2               Tower Hamlets  51.524969  -0.073727     Private room     50   \n",
       "3                    Hounslow  51.465074  -0.324207     Private room    100   \n",
       "4        Richmond upon Thames  51.479345  -0.280662  Entire home/apt    195   \n",
       "...                       ...        ...        ...              ...    ...   \n",
       "85063                 Lambeth  51.486010  -0.127660  Entire home/apt    117   \n",
       "85064                  Merton  51.406280  -0.232440     Private room     69   \n",
       "85065  Hammersmith and Fulham  51.502440  -0.215470  Entire home/apt     90   \n",
       "85066                 Bromley  51.357420   0.107640     Private room     30   \n",
       "85067             Westminster  51.510900  -0.124800  Entire home/apt    187   \n",
       "\n",
       "       minimum_nights  number_of_reviews last_review  reviews_per_month  \\\n",
       "0                   1                134  2019-01-01               1.64   \n",
       "1                  15                118  2018-11-01               1.11   \n",
       "2                   3                 38  2018-01-02               0.48   \n",
       "3                   1                  4  2018-11-04               0.04   \n",
       "4                   3                 63  2018-12-30               0.63   \n",
       "...               ...                ...         ...                ...   \n",
       "85063               3                  2  2019-11-04               2.00   \n",
       "85064               2                  0         NaT                NaN   \n",
       "85065               3                  0         NaT                NaN   \n",
       "85066               2                  0         NaT                NaN   \n",
       "85067               1                  0         NaT                NaN   \n",
       "\n",
       "       calculated_host_listings_count  availability_365  name_len  \n",
       "0                                   4                 0         6  \n",
       "1                                   4                 0         7  \n",
       "2                                   3                81         5  \n",
       "3                                   2               365         7  \n",
       "4                                   1               279         6  \n",
       "...                               ...               ...       ...  \n",
       "85063                               1                59         5  \n",
       "85064                               2               113         7  \n",
       "85065                               4                63         5  \n",
       "85066                               4                 1         8  \n",
       "85067                               1               311         6  \n",
       "\n",
       "[817579 rows x 15 columns]"
      ]
     },
     "execution_count": 125,
     "metadata": {},
     "output_type": "execute_result"
    }
   ],
   "source": [
    "airbnb_df_2019"
   ]
  },
  {
   "cell_type": "markdown",
   "metadata": {},
   "source": [
    "### check catgorical variables"
   ]
  },
  {
   "cell_type": "code",
   "execution_count": 126,
   "metadata": {},
   "outputs": [],
   "source": [
    "cat_var=[]\n",
    "for column in airbnb_df_2019.columns:\n",
    "    if airbnb_df_2019[column].dtype=='object':\n",
    "        cat_var.append(column)"
   ]
  },
  {
   "cell_type": "code",
   "execution_count": 127,
   "metadata": {},
   "outputs": [
    {
     "data": {
      "text/plain": [
       "['name', 'neighbourhood', 'room_type']"
      ]
     },
     "execution_count": 127,
     "metadata": {},
     "output_type": "execute_result"
    }
   ],
   "source": [
    "cat_var"
   ]
  },
  {
   "cell_type": "markdown",
   "metadata": {},
   "source": [
    "### change object dtypes to catgorical codes"
   ]
  },
  {
   "cell_type": "code",
   "execution_count": 128,
   "metadata": {},
   "outputs": [],
   "source": [
    "train_cats(airbnb_df_2019)"
   ]
  },
  {
   "cell_type": "code",
   "execution_count": 129,
   "metadata": {},
   "outputs": [
    {
     "data": {
      "text/plain": [
       "id                                         int64\n",
       "name                                    category\n",
       "host_id                                    int64\n",
       "neighbourhood                           category\n",
       "latitude                                 float64\n",
       "longitude                                float64\n",
       "room_type                               category\n",
       "price                                      int64\n",
       "minimum_nights                             int64\n",
       "number_of_reviews                          int64\n",
       "last_review                       datetime64[ns]\n",
       "reviews_per_month                        float64\n",
       "calculated_host_listings_count             int64\n",
       "availability_365                           int64\n",
       "name_len                                   int64\n",
       "dtype: object"
      ]
     },
     "execution_count": 129,
     "metadata": {},
     "output_type": "execute_result"
    }
   ],
   "source": [
    "airbnb_df_2019.dtypes"
   ]
  },
  {
   "cell_type": "code",
   "execution_count": 130,
   "metadata": {},
   "outputs": [],
   "source": [
    "for _ in cat_var:\n",
    "    airbnb_df_2019[_] = airbnb_df_2019[_].cat.codes"
   ]
  },
  {
   "cell_type": "code",
   "execution_count": 131,
   "metadata": {},
   "outputs": [
    {
     "data": {
      "text/plain": [
       "id                                         int64\n",
       "name                                       int32\n",
       "host_id                                    int64\n",
       "neighbourhood                               int8\n",
       "latitude                                 float64\n",
       "longitude                                float64\n",
       "room_type                                   int8\n",
       "price                                      int64\n",
       "minimum_nights                             int64\n",
       "number_of_reviews                          int64\n",
       "last_review                       datetime64[ns]\n",
       "reviews_per_month                        float64\n",
       "calculated_host_listings_count             int64\n",
       "availability_365                           int64\n",
       "name_len                                   int64\n",
       "dtype: object"
      ]
     },
     "execution_count": 131,
     "metadata": {},
     "output_type": "execute_result"
    }
   ],
   "source": [
    "airbnb_df_2019.dtypes"
   ]
  },
  {
   "cell_type": "code",
   "execution_count": 16,
   "metadata": {},
   "outputs": [],
   "source": [
    "fix_missing(airbnb_df_2019,'reviews_per_month')"
   ]
  },
  {
   "cell_type": "code",
   "execution_count": 17,
   "metadata": {},
   "outputs": [
    {
     "data": {
      "text/plain": [
       "True"
      ]
     },
     "execution_count": 17,
     "metadata": {},
     "output_type": "execute_result"
    }
   ],
   "source": [
    "airbnb_df_2019['last_review'].dtypes == 'datetime64[ns]'"
   ]
  },
  {
   "cell_type": "code",
   "execution_count": 18,
   "metadata": {},
   "outputs": [],
   "source": [
    "fix_missing_date(airbnb_df_2019, 'last_review')"
   ]
  },
  {
   "cell_type": "code",
   "execution_count": 19,
   "metadata": {
    "scrolled": true
   },
   "outputs": [
    {
     "data": {
      "text/plain": [
       "id                                0\n",
       "host_id                           0\n",
       "neighbourhood                     0\n",
       "latitude                          0\n",
       "longitude                         0\n",
       "room_type                         0\n",
       "price                             0\n",
       "minimum_nights                    0\n",
       "number_of_reviews                 0\n",
       "last_review                       0\n",
       "reviews_per_month                 0\n",
       "calculated_host_listings_count    0\n",
       "availability_365                  0\n",
       "dtype: int64"
      ]
     },
     "execution_count": 19,
     "metadata": {},
     "output_type": "execute_result"
    }
   ],
   "source": [
    "airbnb_df_2019.isnull().sum()"
   ]
  },
  {
   "cell_type": "code",
   "execution_count": 20,
   "metadata": {},
   "outputs": [
    {
     "data": {
      "text/plain": [
       "id                                         int64\n",
       "host_id                                    int64\n",
       "neighbourhood                               int8\n",
       "latitude                                 float64\n",
       "longitude                                float64\n",
       "room_type                                   int8\n",
       "price                                      int64\n",
       "minimum_nights                             int64\n",
       "number_of_reviews                          int64\n",
       "last_review                       datetime64[ns]\n",
       "reviews_per_month                        float64\n",
       "calculated_host_listings_count             int64\n",
       "availability_365                           int64\n",
       "dtype: object"
      ]
     },
     "execution_count": 20,
     "metadata": {},
     "output_type": "execute_result"
    }
   ],
   "source": [
    "airbnb_df_2019.dtypes"
   ]
  },
  {
   "cell_type": "code",
   "execution_count": 21,
   "metadata": {},
   "outputs": [
    {
     "data": {
      "text/html": [
       "<div>\n",
       "<style scoped>\n",
       "    .dataframe tbody tr th:only-of-type {\n",
       "        vertical-align: middle;\n",
       "    }\n",
       "\n",
       "    .dataframe tbody tr th {\n",
       "        vertical-align: top;\n",
       "    }\n",
       "\n",
       "    .dataframe thead th {\n",
       "        text-align: right;\n",
       "    }\n",
       "</style>\n",
       "<table border=\"1\" class=\"dataframe\">\n",
       "  <thead>\n",
       "    <tr style=\"text-align: right;\">\n",
       "      <th></th>\n",
       "      <th>id</th>\n",
       "      <th>host_id</th>\n",
       "      <th>neighbourhood</th>\n",
       "      <th>latitude</th>\n",
       "      <th>longitude</th>\n",
       "      <th>room_type</th>\n",
       "      <th>price</th>\n",
       "      <th>minimum_nights</th>\n",
       "      <th>number_of_reviews</th>\n",
       "      <th>last_review</th>\n",
       "      <th>reviews_per_month</th>\n",
       "      <th>calculated_host_listings_count</th>\n",
       "      <th>availability_365</th>\n",
       "    </tr>\n",
       "  </thead>\n",
       "  <tbody>\n",
       "    <tr>\n",
       "      <th>0</th>\n",
       "      <td>9554</td>\n",
       "      <td>31655</td>\n",
       "      <td>13</td>\n",
       "      <td>51.587767</td>\n",
       "      <td>-0.105666</td>\n",
       "      <td>2</td>\n",
       "      <td>35</td>\n",
       "      <td>1</td>\n",
       "      <td>134</td>\n",
       "      <td>2019-01-01</td>\n",
       "      <td>1.64</td>\n",
       "      <td>4</td>\n",
       "      <td>0</td>\n",
       "    </tr>\n",
       "    <tr>\n",
       "      <th>1</th>\n",
       "      <td>25123</td>\n",
       "      <td>103583</td>\n",
       "      <td>1</td>\n",
       "      <td>51.572243</td>\n",
       "      <td>-0.209060</td>\n",
       "      <td>2</td>\n",
       "      <td>29</td>\n",
       "      <td>15</td>\n",
       "      <td>118</td>\n",
       "      <td>2018-11-01</td>\n",
       "      <td>1.11</td>\n",
       "      <td>4</td>\n",
       "      <td>0</td>\n",
       "    </tr>\n",
       "    <tr>\n",
       "      <th>2</th>\n",
       "      <td>28010</td>\n",
       "      <td>119316</td>\n",
       "      <td>29</td>\n",
       "      <td>51.524969</td>\n",
       "      <td>-0.073727</td>\n",
       "      <td>2</td>\n",
       "      <td>50</td>\n",
       "      <td>3</td>\n",
       "      <td>38</td>\n",
       "      <td>2018-01-02</td>\n",
       "      <td>0.48</td>\n",
       "      <td>3</td>\n",
       "      <td>81</td>\n",
       "    </tr>\n",
       "    <tr>\n",
       "      <th>3</th>\n",
       "      <td>33332</td>\n",
       "      <td>144444</td>\n",
       "      <td>17</td>\n",
       "      <td>51.465074</td>\n",
       "      <td>-0.324207</td>\n",
       "      <td>2</td>\n",
       "      <td>100</td>\n",
       "      <td>1</td>\n",
       "      <td>4</td>\n",
       "      <td>2018-11-04</td>\n",
       "      <td>0.04</td>\n",
       "      <td>2</td>\n",
       "      <td>365</td>\n",
       "    </tr>\n",
       "    <tr>\n",
       "      <th>4</th>\n",
       "      <td>36299</td>\n",
       "      <td>155938</td>\n",
       "      <td>26</td>\n",
       "      <td>51.479345</td>\n",
       "      <td>-0.280662</td>\n",
       "      <td>0</td>\n",
       "      <td>195</td>\n",
       "      <td>3</td>\n",
       "      <td>63</td>\n",
       "      <td>2018-12-30</td>\n",
       "      <td>0.63</td>\n",
       "      <td>1</td>\n",
       "      <td>279</td>\n",
       "    </tr>\n",
       "    <tr>\n",
       "      <th>...</th>\n",
       "      <td>...</td>\n",
       "      <td>...</td>\n",
       "      <td>...</td>\n",
       "      <td>...</td>\n",
       "      <td>...</td>\n",
       "      <td>...</td>\n",
       "      <td>...</td>\n",
       "      <td>...</td>\n",
       "      <td>...</td>\n",
       "      <td>...</td>\n",
       "      <td>...</td>\n",
       "      <td>...</td>\n",
       "      <td>...</td>\n",
       "    </tr>\n",
       "    <tr>\n",
       "      <th>85063</th>\n",
       "      <td>38398365</td>\n",
       "      <td>24782379</td>\n",
       "      <td>21</td>\n",
       "      <td>51.486010</td>\n",
       "      <td>-0.127660</td>\n",
       "      <td>0</td>\n",
       "      <td>117</td>\n",
       "      <td>3</td>\n",
       "      <td>2</td>\n",
       "      <td>2019-11-04</td>\n",
       "      <td>2.00</td>\n",
       "      <td>1</td>\n",
       "      <td>59</td>\n",
       "    </tr>\n",
       "    <tr>\n",
       "      <th>85064</th>\n",
       "      <td>39869123</td>\n",
       "      <td>21145791</td>\n",
       "      <td>23</td>\n",
       "      <td>51.406280</td>\n",
       "      <td>-0.232440</td>\n",
       "      <td>2</td>\n",
       "      <td>69</td>\n",
       "      <td>2</td>\n",
       "      <td>0</td>\n",
       "      <td>2019-12-31</td>\n",
       "      <td>0.72</td>\n",
       "      <td>2</td>\n",
       "      <td>113</td>\n",
       "    </tr>\n",
       "    <tr>\n",
       "      <th>85065</th>\n",
       "      <td>39869214</td>\n",
       "      <td>251922260</td>\n",
       "      <td>12</td>\n",
       "      <td>51.502440</td>\n",
       "      <td>-0.215470</td>\n",
       "      <td>0</td>\n",
       "      <td>90</td>\n",
       "      <td>3</td>\n",
       "      <td>0</td>\n",
       "      <td>2019-12-31</td>\n",
       "      <td>0.72</td>\n",
       "      <td>4</td>\n",
       "      <td>63</td>\n",
       "    </tr>\n",
       "    <tr>\n",
       "      <th>85066</th>\n",
       "      <td>39869249</td>\n",
       "      <td>255372486</td>\n",
       "      <td>4</td>\n",
       "      <td>51.357420</td>\n",
       "      <td>0.107640</td>\n",
       "      <td>2</td>\n",
       "      <td>30</td>\n",
       "      <td>2</td>\n",
       "      <td>0</td>\n",
       "      <td>2019-12-31</td>\n",
       "      <td>0.72</td>\n",
       "      <td>4</td>\n",
       "      <td>1</td>\n",
       "    </tr>\n",
       "    <tr>\n",
       "      <th>85067</th>\n",
       "      <td>39869282</td>\n",
       "      <td>210531062</td>\n",
       "      <td>32</td>\n",
       "      <td>51.510900</td>\n",
       "      <td>-0.124800</td>\n",
       "      <td>0</td>\n",
       "      <td>187</td>\n",
       "      <td>1</td>\n",
       "      <td>0</td>\n",
       "      <td>2019-12-31</td>\n",
       "      <td>0.72</td>\n",
       "      <td>1</td>\n",
       "      <td>311</td>\n",
       "    </tr>\n",
       "  </tbody>\n",
       "</table>\n",
       "<p>817579 rows × 13 columns</p>\n",
       "</div>"
      ],
      "text/plain": [
       "             id    host_id  neighbourhood   latitude  longitude  room_type  \\\n",
       "0          9554      31655             13  51.587767  -0.105666          2   \n",
       "1         25123     103583              1  51.572243  -0.209060          2   \n",
       "2         28010     119316             29  51.524969  -0.073727          2   \n",
       "3         33332     144444             17  51.465074  -0.324207          2   \n",
       "4         36299     155938             26  51.479345  -0.280662          0   \n",
       "...         ...        ...            ...        ...        ...        ...   \n",
       "85063  38398365   24782379             21  51.486010  -0.127660          0   \n",
       "85064  39869123   21145791             23  51.406280  -0.232440          2   \n",
       "85065  39869214  251922260             12  51.502440  -0.215470          0   \n",
       "85066  39869249  255372486              4  51.357420   0.107640          2   \n",
       "85067  39869282  210531062             32  51.510900  -0.124800          0   \n",
       "\n",
       "       price  minimum_nights  number_of_reviews last_review  \\\n",
       "0         35               1                134  2019-01-01   \n",
       "1         29              15                118  2018-11-01   \n",
       "2         50               3                 38  2018-01-02   \n",
       "3        100               1                  4  2018-11-04   \n",
       "4        195               3                 63  2018-12-30   \n",
       "...      ...             ...                ...         ...   \n",
       "85063    117               3                  2  2019-11-04   \n",
       "85064     69               2                  0  2019-12-31   \n",
       "85065     90               3                  0  2019-12-31   \n",
       "85066     30               2                  0  2019-12-31   \n",
       "85067    187               1                  0  2019-12-31   \n",
       "\n",
       "       reviews_per_month  calculated_host_listings_count  availability_365  \n",
       "0                   1.64                               4                 0  \n",
       "1                   1.11                               4                 0  \n",
       "2                   0.48                               3                81  \n",
       "3                   0.04                               2               365  \n",
       "4                   0.63                               1               279  \n",
       "...                  ...                             ...               ...  \n",
       "85063               2.00                               1                59  \n",
       "85064               0.72                               2               113  \n",
       "85065               0.72                               4                63  \n",
       "85066               0.72                               4                 1  \n",
       "85067               0.72                               1               311  \n",
       "\n",
       "[817579 rows x 13 columns]"
      ]
     },
     "execution_count": 21,
     "metadata": {},
     "output_type": "execute_result"
    }
   ],
   "source": [
    "airbnb_df_2019"
   ]
  },
  {
   "cell_type": "markdown",
   "metadata": {},
   "source": [
    "### Question: is there a statistical significance between number of reviews and price?"
   ]
  },
  {
   "cell_type": "code",
   "execution_count": 153,
   "metadata": {},
   "outputs": [
    {
     "data": {
      "image/png": "[encoded data removed]",
      "text/plain": [
       "<Figure size 864x288 with 1 Axes>"
      ]
     },
     "metadata": {},
     "output_type": "display_data"
    }
   ],
   "source": [
    "fig, ax = plt.subplots(figsize=(12,4))\n",
    "sns.boxplot(x = 'price', \n",
    "            data = airbnb_df_2019, \n",
    "            orient = 'h', \n",
    "            width = 0.8, \n",
    "            fliersize = 3, \n",
    "            showmeans=True, \n",
    "            ax = ax)\n",
    "plt.show()"
   ]
  },
  {
   "cell_type": "code",
   "execution_count": 154,
   "metadata": {},
   "outputs": [
    {
     "name": "stdout",
     "output_type": "stream",
     "text": [
      "0.9 quantile: 220.0\n",
      "0.91 quantile: 230.0\n",
      "0.92 quantile: 250.0\n",
      "0.93 quantile: 257.0\n",
      "0.94 quantile: 286.0\n",
      "0.95 quantile: 300.0\n",
      "0.96 quantile: 350.0\n",
      "0.97 quantile: 400.0\n",
      "0.98 quantile: 498.0\n",
      "0.99 quantile: 690.0\n",
      "1.0 quantile: 20000.0\n"
     ]
    }
   ],
   "source": [
    "quantiles = np.linspace(0.9,1,11)\n",
    "for i in quantiles:\n",
    "    print ('{} quantile: {}'.format(round(i,2), airbnb_df_2019.price.quantile(i)))"
   ]
  },
  {
   "cell_type": "code",
   "execution_count": 23,
   "metadata": {},
   "outputs": [],
   "source": [
    "outliers = airbnb_df_2019[(airbnb_df_2019['price'] >= 300)].index\n",
    "airbnb_df_2019.drop(outliers, inplace=True)"
   ]
  },
  {
   "cell_type": "markdown",
   "metadata": {},
   "source": [
    "### Plot relationship between reviews and price"
   ]
  },
  {
   "cell_type": "code",
   "execution_count": 24,
   "metadata": {},
   "outputs": [
    {
     "data": {
      "image/png": "[encoded data removed]",
      "text/plain": [
       "<Figure size 720x720 with 1 Axes>"
      ]
     },
     "metadata": {
      "needs_background": "light"
     },
     "output_type": "display_data"
    }
   ],
   "source": [
    "ctrl_q1 = airbnb_df_2019[airbnb_df_2019['number_of_reviews']==0]['price']\n",
    "exper_q1 = airbnb_df_2019[airbnb_df_2019['number_of_reviews']!=0]['price']\n",
    "\n",
    "plt.figure(figsize=(10, 10))\n",
    "sns.distplot(ctrl_q1, label='no review')\n",
    "sns.set_color_codes(\"muted\")\n",
    "sns.distplot(exper_q1, label='with review' )\n",
    "plt.title('no reviews vs with reviews',fontsize=20)\n",
    "plt.xlabel('price',fontsize=20)\n",
    "plt.legend();"
   ]
  },
  {
   "cell_type": "markdown",
   "metadata": {},
   "source": [
    "### Creat two sample T test"
   ]
  },
  {
   "cell_type": "markdown",
   "metadata": {},
   "source": [
    "#### Create sampling data"
   ]
  },
  {
   "cell_type": "code",
   "execution_count": 157,
   "metadata": {},
   "outputs": [
    {
     "data": {
      "text/plain": [
       "NormaltestResult(statistic=15323.958122834152, pvalue=0.0)"
      ]
     },
     "execution_count": 157,
     "metadata": {},
     "output_type": "execute_result"
    }
   ],
   "source": [
    "scipy.stats.normaltest(ctrl_q1)"
   ]
  },
  {
   "cell_type": "code",
   "execution_count": 26,
   "metadata": {},
   "outputs": [
    {
     "data": {
      "text/plain": [
       "NormaltestResult(statistic=59369.48996458057, pvalue=0.0)"
      ]
     },
     "execution_count": 26,
     "metadata": {},
     "output_type": "execute_result"
    }
   ],
   "source": [
    "scipy.stats.normaltest(exper_q1)"
   ]
  },
  {
   "cell_type": "markdown",
   "metadata": {},
   "source": [
    "Both P value equal to zero means the data is not normally distributed"
   ]
  },
  {
   "cell_type": "code",
   "execution_count": 27,
   "metadata": {},
   "outputs": [],
   "source": [
    "ctrl_sample_q1 = create_sample_distribution(ctrl_q1)"
   ]
  },
  {
   "cell_type": "code",
   "execution_count": 28,
   "metadata": {},
   "outputs": [],
   "source": [
    "exper_sample_q1 = create_sample_distribution(exper_q1)"
   ]
  },
  {
   "cell_type": "markdown",
   "metadata": {},
   "source": [
    "#### Plot sampling data"
   ]
  },
  {
   "cell_type": "code",
   "execution_count": 29,
   "metadata": {},
   "outputs": [
    {
     "data": {
      "image/png": "[encoded data removed]",
      "text/plain": [
       "<Figure size 720x720 with 1 Axes>"
      ]
     },
     "metadata": {
      "needs_background": "light"
     },
     "output_type": "display_data"
    }
   ],
   "source": [
    "plt.figure(figsize=(10, 10))\n",
    "sns.distplot(ctrl_sample_q1, label='no review')\n",
    "sns.set_color_codes(\"muted\")\n",
    "sns.distplot(exper_sample_q1, label='with review' )\n",
    "plt.title('no reviews vs with reviews after sampling',fontsize=20)\n",
    "plt.xlabel('price',fontsize=20)\n",
    "plt.legend();"
   ]
  },
  {
   "cell_type": "markdown",
   "metadata": {},
   "source": [
    "#### Cohen'd and p value"
   ]
  },
  {
   "cell_type": "code",
   "execution_count": 163,
   "metadata": {},
   "outputs": [],
   "source": [
    "p = scipy.stats.ttest_ind(ctrl_sample_q1, exper_sample_q1)[1]\n",
    "d = Cohen_d(np.array(ctrl_sample_q1), np.array(exper_sample_q1))"
   ]
  },
  {
   "cell_type": "code",
   "execution_count": 31,
   "metadata": {},
   "outputs": [
    {
     "name": "stdout",
     "output_type": "stream",
     "text": [
      "p value is 4.031780019204154e-49 effect size is 0.6775529930344316\n",
      "It has a medium effect\n",
      "Reject Null Hypothesis\n"
     ]
    }
   ],
   "source": [
    "result_cohen_d_p(p, d)"
   ]
  },
  {
   "cell_type": "markdown",
   "metadata": {},
   "source": [
    "### Multiple comparison ANOVA"
   ]
  },
  {
   "cell_type": "markdown",
   "metadata": {},
   "source": [
    "#### check range of 'number of reviews'"
   ]
  },
  {
   "cell_type": "code",
   "execution_count": 32,
   "metadata": {
    "scrolled": true
   },
   "outputs": [
    {
     "data": {
      "image/png": "[encoded data removed]",
      "text/plain": [
       "<Figure size 864x288 with 1 Axes>"
      ]
     },
     "metadata": {
      "needs_background": "light"
     },
     "output_type": "display_data"
    }
   ],
   "source": [
    "fig, ax = plt.subplots(figsize=(12,4))\n",
    "sns.boxplot(x = 'number_of_reviews', \n",
    "            data = airbnb_df_2019, \n",
    "            orient = 'h', \n",
    "            width = 0.8, \n",
    "            fliersize = 3, \n",
    "            showmeans=True, \n",
    "            ax = ax)\n",
    "plt.show()"
   ]
  },
  {
   "cell_type": "markdown",
   "metadata": {},
   "source": [
    "#### Create bins with range of 100 reviews"
   ]
  },
  {
   "cell_type": "markdown",
   "metadata": {},
   "source": [
    "we are going to gather the number of reviews with bin of 100 from 0 - 600, and above 600 will be a group"
   ]
  },
  {
   "cell_type": "code",
   "execution_count": 100,
   "metadata": {},
   "outputs": [],
   "source": [
    "df_binned = []\n",
    "df_binned.append(airbnb_df_2019[airbnb_df_2019['number_of_reviews']==0])\n",
    "for number in [0, 100,200,300,400,500,600]:\n",
    "    df_binned.append(airbnb_df_2019[(airbnb_df_2019['number_of_reviews']<= (number+100))&\n",
    "                      (airbnb_df_2019['number_of_reviews']>number)])"
   ]
  },
  {
   "cell_type": "code",
   "execution_count": 102,
   "metadata": {},
   "outputs": [
    {
     "name": "stdout",
     "output_type": "stream",
     "text": [
      "0 NormaltestResult(statistic=15323.958122834152, pvalue=0.0)\n",
      "1 NormaltestResult(statistic=53777.4135825594, pvalue=0.0)\n",
      "2 NormaltestResult(statistic=4950.352973444078, pvalue=0.0)\n",
      "3 NormaltestResult(statistic=933.2813252235303, pvalue=2.1904593397782015e-203)\n",
      "4 NormaltestResult(statistic=160.95634288731716, pvalue=1.1188560854930316e-35)\n",
      "5 NormaltestResult(statistic=61.25804468134577, pvalue=4.988668104668477e-14)\n",
      "6 NormaltestResult(statistic=3.291900273715706, pvalue=0.19282926153825192)\n",
      "7 NormaltestResult(statistic=1.7236107320707614, pvalue=0.4223988090679863)\n"
     ]
    }
   ],
   "source": [
    "for n,df in enumerate(df_binned):\n",
    "    print(n,scipy.stats.normaltest(df['price']))"
   ]
  },
  {
   "cell_type": "code",
   "execution_count": 47,
   "metadata": {},
   "outputs": [],
   "source": [
    "df_sample=[]\n",
    "for df in df_binned:\n",
    "    df_new = create_sample_distribution(df['price'])\n",
    "    df_sample.append(df_new)"
   ]
  },
  {
   "cell_type": "code",
   "execution_count": 50,
   "metadata": {},
   "outputs": [
    {
     "data": {
      "image/png": "[encoded data removed]",
      "text/plain": [
       "<Figure size 720x720 with 1 Axes>"
      ]
     },
     "metadata": {
      "needs_background": "light"
     },
     "output_type": "display_data"
    }
   ],
   "source": [
    "plt.figure(figsize=(10, 10))\n",
    "for n,df in enumerate(df_sample):\n",
    "    sns.distplot(df, label=n)\n",
    "plt.title('binned reviews after sampling',fontsize=20)\n",
    "plt.xlabel('price',fontsize=20)\n",
    "plt.legend();"
   ]
  },
  {
   "cell_type": "code",
   "execution_count": 71,
   "metadata": {},
   "outputs": [],
   "source": [
    "result_df=pd.DataFrame(columns=['p',\"cohen'd\",'hypothesis state'])\n",
    "combos = itertools.combinations(df_sample, 2)\n",
    "for n, combo in enumerate(list(combos)):\n",
    "    num_review1 = combo[0]\n",
    "    num_review2 = combo[1]\n",
    "    p = stats.ttest_ind(num_review1, num_review2, equal_var=False)[1]\n",
    "    d = Cohen_d(np.array(num_review1), np.array(num_review2))\n",
    "    empty_df.loc[n] = [p]+[d]+['Reject Null Hypothesis' if p < 0.025 else 'Failed to reject Null Hypothesis']"
   ]
  },
  {
   "cell_type": "code",
   "execution_count": 72,
   "metadata": {},
   "outputs": [
    {
     "data": {
      "text/html": [
       "<div>\n",
       "<style scoped>\n",
       "    .dataframe tbody tr th:only-of-type {\n",
       "        vertical-align: middle;\n",
       "    }\n",
       "\n",
       "    .dataframe tbody tr th {\n",
       "        vertical-align: top;\n",
       "    }\n",
       "\n",
       "    .dataframe thead th {\n",
       "        text-align: right;\n",
       "    }\n",
       "</style>\n",
       "<table border=\"1\" class=\"dataframe\">\n",
       "  <thead>\n",
       "    <tr style=\"text-align: right;\">\n",
       "      <th></th>\n",
       "      <th>p</th>\n",
       "      <th>cohen'd</th>\n",
       "      <th>hypothesis state</th>\n",
       "    </tr>\n",
       "  </thead>\n",
       "  <tbody>\n",
       "    <tr>\n",
       "      <th>0</th>\n",
       "      <td>3.035697e-14</td>\n",
       "      <td>0.342455</td>\n",
       "      <td>Reject Null Hypothesis</td>\n",
       "    </tr>\n",
       "    <tr>\n",
       "      <th>1</th>\n",
       "      <td>0.000000e+00</td>\n",
       "      <td>3.187921</td>\n",
       "      <td>Reject Null Hypothesis</td>\n",
       "    </tr>\n",
       "    <tr>\n",
       "      <th>2</th>\n",
       "      <td>0.000000e+00</td>\n",
       "      <td>4.066976</td>\n",
       "      <td>Reject Null Hypothesis</td>\n",
       "    </tr>\n",
       "    <tr>\n",
       "      <th>3</th>\n",
       "      <td>0.000000e+00</td>\n",
       "      <td>4.292540</td>\n",
       "      <td>Reject Null Hypothesis</td>\n",
       "    </tr>\n",
       "    <tr>\n",
       "      <th>4</th>\n",
       "      <td>0.000000e+00</td>\n",
       "      <td>3.917006</td>\n",
       "      <td>Reject Null Hypothesis</td>\n",
       "    </tr>\n",
       "    <tr>\n",
       "      <th>5</th>\n",
       "      <td>0.000000e+00</td>\n",
       "      <td>4.118110</td>\n",
       "      <td>Reject Null Hypothesis</td>\n",
       "    </tr>\n",
       "    <tr>\n",
       "      <th>6</th>\n",
       "      <td>0.000000e+00</td>\n",
       "      <td>3.997537</td>\n",
       "      <td>Reject Null Hypothesis</td>\n",
       "    </tr>\n",
       "    <tr>\n",
       "      <th>7</th>\n",
       "      <td>0.000000e+00</td>\n",
       "      <td>3.030877</td>\n",
       "      <td>Reject Null Hypothesis</td>\n",
       "    </tr>\n",
       "    <tr>\n",
       "      <th>8</th>\n",
       "      <td>0.000000e+00</td>\n",
       "      <td>3.997544</td>\n",
       "      <td>Reject Null Hypothesis</td>\n",
       "    </tr>\n",
       "    <tr>\n",
       "      <th>9</th>\n",
       "      <td>0.000000e+00</td>\n",
       "      <td>4.259312</td>\n",
       "      <td>Reject Null Hypothesis</td>\n",
       "    </tr>\n",
       "    <tr>\n",
       "      <th>10</th>\n",
       "      <td>0.000000e+00</td>\n",
       "      <td>3.837155</td>\n",
       "      <td>Reject Null Hypothesis</td>\n",
       "    </tr>\n",
       "    <tr>\n",
       "      <th>11</th>\n",
       "      <td>0.000000e+00</td>\n",
       "      <td>4.078140</td>\n",
       "      <td>Reject Null Hypothesis</td>\n",
       "    </tr>\n",
       "    <tr>\n",
       "      <th>12</th>\n",
       "      <td>0.000000e+00</td>\n",
       "      <td>3.948853</td>\n",
       "      <td>Reject Null Hypothesis</td>\n",
       "    </tr>\n",
       "    <tr>\n",
       "      <th>13</th>\n",
       "      <td>4.979892e-83</td>\n",
       "      <td>0.907962</td>\n",
       "      <td>Reject Null Hypothesis</td>\n",
       "    </tr>\n",
       "    <tr>\n",
       "      <th>14</th>\n",
       "      <td>2.611981e-108</td>\n",
       "      <td>1.064530</td>\n",
       "      <td>Reject Null Hypothesis</td>\n",
       "    </tr>\n",
       "    <tr>\n",
       "      <th>15</th>\n",
       "      <td>3.958551e-47</td>\n",
       "      <td>0.663714</td>\n",
       "      <td>Reject Null Hypothesis</td>\n",
       "    </tr>\n",
       "    <tr>\n",
       "      <th>16</th>\n",
       "      <td>3.096624e-53</td>\n",
       "      <td>0.714863</td>\n",
       "      <td>Reject Null Hypothesis</td>\n",
       "    </tr>\n",
       "    <tr>\n",
       "      <th>17</th>\n",
       "      <td>8.777367e-28</td>\n",
       "      <td>0.499221</td>\n",
       "      <td>Reject Null Hypothesis</td>\n",
       "    </tr>\n",
       "    <tr>\n",
       "      <th>18</th>\n",
       "      <td>1.915697e-02</td>\n",
       "      <td>0.104899</td>\n",
       "      <td>Reject Null Hypothesis</td>\n",
       "    </tr>\n",
       "    <tr>\n",
       "      <th>19</th>\n",
       "      <td>2.590052e-11</td>\n",
       "      <td>0.300069</td>\n",
       "      <td>Reject Null Hypothesis</td>\n",
       "    </tr>\n",
       "    <tr>\n",
       "      <th>20</th>\n",
       "      <td>4.799818e-16</td>\n",
       "      <td>0.366674</td>\n",
       "      <td>Reject Null Hypothesis</td>\n",
       "    </tr>\n",
       "    <tr>\n",
       "      <th>21</th>\n",
       "      <td>2.580332e-45</td>\n",
       "      <td>0.651875</td>\n",
       "      <td>Reject Null Hypothesis</td>\n",
       "    </tr>\n",
       "    <tr>\n",
       "      <th>22</th>\n",
       "      <td>3.005283e-22</td>\n",
       "      <td>0.439369</td>\n",
       "      <td>Reject Null Hypothesis</td>\n",
       "    </tr>\n",
       "    <tr>\n",
       "      <th>23</th>\n",
       "      <td>3.127491e-33</td>\n",
       "      <td>0.547693</td>\n",
       "      <td>Reject Null Hypothesis</td>\n",
       "    </tr>\n",
       "    <tr>\n",
       "      <th>24</th>\n",
       "      <td>3.466540e-79</td>\n",
       "      <td>0.885330</td>\n",
       "      <td>Reject Null Hypothesis</td>\n",
       "    </tr>\n",
       "    <tr>\n",
       "      <th>25</th>\n",
       "      <td>5.975476e-01</td>\n",
       "      <td>0.023626</td>\n",
       "      <td>Failed to reject Null Hypothesis</td>\n",
       "    </tr>\n",
       "    <tr>\n",
       "      <th>26</th>\n",
       "      <td>6.217157e-12</td>\n",
       "      <td>0.309794</td>\n",
       "      <td>Reject Null Hypothesis</td>\n",
       "    </tr>\n",
       "    <tr>\n",
       "      <th>27</th>\n",
       "      <td>2.842841e-15</td>\n",
       "      <td>0.356217</td>\n",
       "      <td>Reject Null Hypothesis</td>\n",
       "    </tr>\n",
       "  </tbody>\n",
       "</table>\n",
       "</div>"
      ],
      "text/plain": [
       "                p   cohen'd                  hypothesis state\n",
       "0    3.035697e-14  0.342455            Reject Null Hypothesis\n",
       "1    0.000000e+00  3.187921            Reject Null Hypothesis\n",
       "2    0.000000e+00  4.066976            Reject Null Hypothesis\n",
       "3    0.000000e+00  4.292540            Reject Null Hypothesis\n",
       "4    0.000000e+00  3.917006            Reject Null Hypothesis\n",
       "5    0.000000e+00  4.118110            Reject Null Hypothesis\n",
       "6    0.000000e+00  3.997537            Reject Null Hypothesis\n",
       "7    0.000000e+00  3.030877            Reject Null Hypothesis\n",
       "8    0.000000e+00  3.997544            Reject Null Hypothesis\n",
       "9    0.000000e+00  4.259312            Reject Null Hypothesis\n",
       "10   0.000000e+00  3.837155            Reject Null Hypothesis\n",
       "11   0.000000e+00  4.078140            Reject Null Hypothesis\n",
       "12   0.000000e+00  3.948853            Reject Null Hypothesis\n",
       "13   4.979892e-83  0.907962            Reject Null Hypothesis\n",
       "14  2.611981e-108  1.064530            Reject Null Hypothesis\n",
       "15   3.958551e-47  0.663714            Reject Null Hypothesis\n",
       "16   3.096624e-53  0.714863            Reject Null Hypothesis\n",
       "17   8.777367e-28  0.499221            Reject Null Hypothesis\n",
       "18   1.915697e-02  0.104899            Reject Null Hypothesis\n",
       "19   2.590052e-11  0.300069            Reject Null Hypothesis\n",
       "20   4.799818e-16  0.366674            Reject Null Hypothesis\n",
       "21   2.580332e-45  0.651875            Reject Null Hypothesis\n",
       "22   3.005283e-22  0.439369            Reject Null Hypothesis\n",
       "23   3.127491e-33  0.547693            Reject Null Hypothesis\n",
       "24   3.466540e-79  0.885330            Reject Null Hypothesis\n",
       "25   5.975476e-01  0.023626  Failed to reject Null Hypothesis\n",
       "26   6.217157e-12  0.309794            Reject Null Hypothesis\n",
       "27   2.842841e-15  0.356217            Reject Null Hypothesis"
      ]
     },
     "execution_count": 72,
     "metadata": {},
     "output_type": "execute_result"
    }
   ],
   "source": [
    "result_df"
   ]
  },
  {
   "cell_type": "markdown",
   "metadata": {},
   "source": [
    "### Question: is there a statistical significance between length of titles and number of reviews? if so at which levels"
   ]
  },
  {
   "cell_type": "code",
   "execution_count": 140,
   "metadata": {},
   "outputs": [
    {
     "data": {
      "text/plain": [
       "array([ 6,  7,  5,  9,  4,  3,  8, 10,  2,  1, 11, 12, 42, 20, 15, 14, 13,\n",
       "       27, 17, 19, 18, 21, 26, 29, 45, 16, 31, 30, 38, 23, 48])"
      ]
     },
     "execution_count": 140,
     "metadata": {},
     "output_type": "execute_result"
    }
   ],
   "source": [
    "airbnb_df_2019['name_len'].unique()"
   ]
  },
  {
   "cell_type": "code",
   "execution_count": 143,
   "metadata": {},
   "outputs": [
    {
     "data": {
      "text/plain": [
       "16.0"
      ]
     },
     "execution_count": 143,
     "metadata": {},
     "output_type": "execute_result"
    }
   ],
   "source": [
    "np.median(airbnb_df_2019['name_len'].unique())"
   ]
  },
  {
   "cell_type": "markdown",
   "metadata": {},
   "source": [
    "We will create two groups: one has length below 16 letters, the other has length equal or above 16 letters"
   ]
  },
  {
   "cell_type": "code",
   "execution_count": 151,
   "metadata": {},
   "outputs": [
    {
     "data": {
      "image/png": "[encoded data removed]",
      "text/plain": [
       "<Figure size 864x288 with 1 Axes>"
      ]
     },
     "metadata": {},
     "output_type": "display_data"
    }
   ],
   "source": [
    "fig, ax = plt.subplots(figsize=(12,4))\n",
    "sns.boxplot(x = 'number_of_reviews', \n",
    "            data = airbnb_df_2019, \n",
    "            orient = 'h', \n",
    "            width = 0.8, \n",
    "            fliersize = 3, \n",
    "            showmeans=True, \n",
    "            ax = ax)\n",
    "plt.show()"
   ]
  },
  {
   "cell_type": "code",
   "execution_count": 152,
   "metadata": {},
   "outputs": [
    {
     "name": "stdout",
     "output_type": "stream",
     "text": [
      "0.9 quantile: 43.0\n",
      "0.91 quantile: 47.0\n",
      "0.92 quantile: 52.0\n",
      "0.93 quantile: 58.0\n",
      "0.94 quantile: 65.0\n",
      "0.95 quantile: 74.0\n",
      "0.96 quantile: 86.0\n",
      "0.97 quantile: 102.0\n",
      "0.98 quantile: 127.0\n",
      "0.99 quantile: 172.0\n",
      "1.0 quantile: 716.0\n"
     ]
    }
   ],
   "source": [
    "quantiles = np.linspace(0.9,1,11)\n",
    "for i in quantiles:\n",
    "    print ('{} quantile: {}'.format(round(i,2), airbnb_df_2019['number_of_reviews'].quantile(i)))"
   ]
  },
  {
   "cell_type": "code",
   "execution_count": 155,
   "metadata": {},
   "outputs": [],
   "source": [
    "outliers = airbnb_df_2019[(airbnb_df_2019['number_of_reviews'] >74)].index\n",
    "airbnb_df_2019.drop(outliers, inplace=True)"
   ]
  },
  {
   "cell_type": "code",
   "execution_count": 156,
   "metadata": {},
   "outputs": [
    {
     "data": {
      "image/png": "[encoded data removed]",
      "text/plain": [
       "<Figure size 720x720 with 1 Axes>"
      ]
     },
     "metadata": {},
     "output_type": "display_data"
    }
   ],
   "source": [
    "ctrl_q2 = airbnb_df_2019[airbnb_df_2019['name_len']<16]['number_of_reviews']\n",
    "exper_q2 = airbnb_df_2019[airbnb_df_2019['name_len']>=16]['number_of_reviews']\n",
    "\n",
    "plt.figure(figsize=(10, 10))\n",
    "sns.distplot(ctrl_q2, label='name len below 16')\n",
    "sns.set_color_codes(\"muted\")\n",
    "sns.distplot(exper_q2, label='name len equal or above 16' )\n",
    "plt.title('relationship between number of reviews and name length less/more than 16 letters',fontsize=20)\n",
    "plt.xlabel('number of reviews',fontsize=20)\n",
    "plt.legend();"
   ]
  },
  {
   "cell_type": "markdown",
   "metadata": {},
   "source": [
    "### Creat two sample T test"
   ]
  },
  {
   "cell_type": "markdown",
   "metadata": {},
   "source": [
    "#### Create sampling data"
   ]
  },
  {
   "cell_type": "code",
   "execution_count": 158,
   "metadata": {},
   "outputs": [
    {
     "data": {
      "text/plain": [
       "NormaltestResult(statistic=255737.37692630992, pvalue=0.0)"
      ]
     },
     "execution_count": 158,
     "metadata": {},
     "output_type": "execute_result"
    }
   ],
   "source": [
    "scipy.stats.normaltest(ctrl_q2)"
   ]
  },
  {
   "cell_type": "code",
   "execution_count": 159,
   "metadata": {},
   "outputs": [
    {
     "data": {
      "text/plain": [
       "NormaltestResult(statistic=39.45802778426565, pvalue=2.7027018147831617e-09)"
      ]
     },
     "execution_count": 159,
     "metadata": {},
     "output_type": "execute_result"
    }
   ],
   "source": [
    "scipy.stats.normaltest(exper_q2)"
   ]
  },
  {
   "cell_type": "code",
   "execution_count": 160,
   "metadata": {},
   "outputs": [],
   "source": [
    "ctrl_sample_q2 = create_sample_distribution(ctrl_q2)"
   ]
  },
  {
   "cell_type": "code",
   "execution_count": 161,
   "metadata": {},
   "outputs": [],
   "source": [
    "exper_sample_q2 = create_sample_distribution(exper_q2)"
   ]
  },
  {
   "cell_type": "markdown",
   "metadata": {},
   "source": [
    "#### Plot sampling data"
   ]
  },
  {
   "cell_type": "code",
   "execution_count": 164,
   "metadata": {},
   "outputs": [
    {
     "data": {
      "image/png": "[encoded data removed]",
      "text/plain": [
       "<Figure size 720x720 with 1 Axes>"
      ]
     },
     "metadata": {},
     "output_type": "display_data"
    }
   ],
   "source": [
    "plt.figure(figsize=(10, 10))\n",
    "sns.distplot(ctrl_sample_q2, label='name len below 16')\n",
    "sns.set_color_codes(\"muted\")\n",
    "sns.distplot(exper_sample_q2, label='name len equal or above 16' )\n",
    "plt.title('relationship between number of reviews and name length less/more than 16 letters',fontsize=20)\n",
    "plt.xlabel('number of reviews',fontsize=20)\n",
    "plt.legend();"
   ]
  },
  {
   "cell_type": "markdown",
   "metadata": {},
   "source": [
    "#### Cohen'd and p value"
   ]
  },
  {
   "cell_type": "code",
   "execution_count": 165,
   "metadata": {},
   "outputs": [],
   "source": [
    "p = scipy.stats.ttest_ind(ctrl_sample_q2, exper_sample_q2)[1]\n",
    "d = Cohen_d(np.array(ctrl_sample_q2), np.array(exper_sample_q2))"
   ]
  },
  {
   "cell_type": "code",
   "execution_count": 166,
   "metadata": {},
   "outputs": [
    {
     "name": "stdout",
     "output_type": "stream",
     "text": [
      "p value is 9.678881166396255e-198 effect size is 1.508921103735379\n",
      "It has a large effect\n",
      "Reject Null Hypothesis\n"
     ]
    }
   ],
   "source": [
    "result_cohen_d_p(p, d)"
   ]
  },
  {
   "cell_type": "markdown",
   "metadata": {},
   "source": [
    "### Summary"
   ]
  },
  {
   "cell_type": "markdown",
   "metadata": {},
   "source": [
    "The length of name has significance with number of reviews (length with less/more than 16 characters). From the chart above, name with length of less than 16 characters has higher mean value of review numbers"
   ]
  },
  {
   "cell_type": "code",
   "execution_count": null,
   "metadata": {},
   "outputs": [],
   "source": []
  }
 ],
 "metadata": {
  "kernelspec": {
   "display_name": "Python 3",
   "language": "python",
   "name": "python3"
  },
  "language_info": {
   "codemirror_mode": {
    "name": "ipython",
    "version": 3
   },
   "file_extension": ".py",
   "mimetype": "text/x-python",
   "name": "python",
   "nbconvert_exporter": "python",
   "pygments_lexer": "ipython3",
   "version": "3.6.8"
  }
 },
 "nbformat": 4,
 "nbformat_minor": 2
}
