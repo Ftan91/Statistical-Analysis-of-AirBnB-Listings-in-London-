{
 "cells": [
  {
   "cell_type": "markdown",
   "metadata": {},
   "source": [
    "## Loading libraries"
   ]
  },
  {
   "cell_type": "code",
   "execution_count": 1,
   "metadata": {},
   "outputs": [],
   "source": [
    "%load_ext autoreload\n",
    "%autoreload 2"
   ]
  },
  {
   "cell_type": "code",
   "execution_count": 201,
   "metadata": {},
   "outputs": [],
   "source": [
    "import pandas as pd\n",
    "import numpy as np\n",
    "from external_modules.shuyu import *\n",
    "import seaborn as sns; sns.set()\n",
    "import matplotlib.pyplot as plt\n",
    "import scipy\n",
    "import itertools # for combinations\n"
   ]
  },
  {
   "cell_type": "code",
   "execution_count": 191,
   "metadata": {},
   "outputs": [],
   "source": [
    "airbnb_df =[]\n",
    "for m in ['jan','feb','mar','apr','may','jun','jul','aug','sep','nov']:\n",
    "    airbnb_df.append(pd.read_csv('data/listings_{}.csv'.format(m), parse_dates=['last_review']))"
   ]
  },
  {
   "cell_type": "markdown",
   "metadata": {},
   "source": [
    "## Concat dateframes into one"
   ]
  },
  {
   "cell_type": "code",
   "execution_count": 106,
   "metadata": {},
   "outputs": [],
   "source": [
    "airbnb_df_2019 = pd.concat(airbnb_df)"
   ]
  },
  {
   "cell_type": "code",
   "execution_count": 107,
   "metadata": {},
   "outputs": [
    {
     "data": {
      "text/html": [
       "<div>\n",
       "<style scoped>\n",
       "    .dataframe tbody tr th:only-of-type {\n",
       "        vertical-align: middle;\n",
       "    }\n",
       "\n",
       "    .dataframe tbody tr th {\n",
       "        vertical-align: top;\n",
       "    }\n",
       "\n",
       "    .dataframe thead th {\n",
       "        text-align: right;\n",
       "    }\n",
       "</style>\n",
       "<table border=\"1\" class=\"dataframe\">\n",
       "  <thead>\n",
       "    <tr style=\"text-align: right;\">\n",
       "      <th></th>\n",
       "      <th>id</th>\n",
       "      <th>name</th>\n",
       "      <th>host_id</th>\n",
       "      <th>host_name</th>\n",
       "      <th>neighbourhood_group</th>\n",
       "      <th>neighbourhood</th>\n",
       "      <th>latitude</th>\n",
       "      <th>longitude</th>\n",
       "      <th>room_type</th>\n",
       "      <th>price</th>\n",
       "      <th>minimum_nights</th>\n",
       "      <th>number_of_reviews</th>\n",
       "      <th>last_review</th>\n",
       "      <th>reviews_per_month</th>\n",
       "      <th>calculated_host_listings_count</th>\n",
       "      <th>availability_365</th>\n",
       "    </tr>\n",
       "  </thead>\n",
       "  <tbody>\n",
       "    <tr>\n",
       "      <th>0</th>\n",
       "      <td>9554</td>\n",
       "      <td>Cozy, 3 minutes to Piccadilly Line</td>\n",
       "      <td>31655</td>\n",
       "      <td>Guy</td>\n",
       "      <td>NaN</td>\n",
       "      <td>Haringey</td>\n",
       "      <td>51.587767</td>\n",
       "      <td>-0.105666</td>\n",
       "      <td>Private room</td>\n",
       "      <td>35</td>\n",
       "      <td>1</td>\n",
       "      <td>134</td>\n",
       "      <td>2019-01-01</td>\n",
       "      <td>1.64</td>\n",
       "      <td>4</td>\n",
       "      <td>0</td>\n",
       "    </tr>\n",
       "    <tr>\n",
       "      <th>1</th>\n",
       "      <td>25123</td>\n",
       "      <td>Clean big Room in London (Room 1)</td>\n",
       "      <td>103583</td>\n",
       "      <td>Grace</td>\n",
       "      <td>NaN</td>\n",
       "      <td>Barnet</td>\n",
       "      <td>51.572243</td>\n",
       "      <td>-0.209060</td>\n",
       "      <td>Private room</td>\n",
       "      <td>29</td>\n",
       "      <td>15</td>\n",
       "      <td>118</td>\n",
       "      <td>2018-11-01</td>\n",
       "      <td>1.11</td>\n",
       "      <td>4</td>\n",
       "      <td>0</td>\n",
       "    </tr>\n",
       "    <tr>\n",
       "      <th>2</th>\n",
       "      <td>28010</td>\n",
       "      <td>LOVELY Dbl Bedroom in Shoreditch!</td>\n",
       "      <td>119316</td>\n",
       "      <td>Valentina</td>\n",
       "      <td>NaN</td>\n",
       "      <td>Tower Hamlets</td>\n",
       "      <td>51.524969</td>\n",
       "      <td>-0.073727</td>\n",
       "      <td>Private room</td>\n",
       "      <td>50</td>\n",
       "      <td>3</td>\n",
       "      <td>38</td>\n",
       "      <td>2018-01-02</td>\n",
       "      <td>0.48</td>\n",
       "      <td>3</td>\n",
       "      <td>81</td>\n",
       "    </tr>\n",
       "    <tr>\n",
       "      <th>3</th>\n",
       "      <td>33332</td>\n",
       "      <td>Twickenham Stadium &amp; Wimbledon easy reach Ensuite</td>\n",
       "      <td>144444</td>\n",
       "      <td>Chi-Chi</td>\n",
       "      <td>NaN</td>\n",
       "      <td>Hounslow</td>\n",
       "      <td>51.465074</td>\n",
       "      <td>-0.324207</td>\n",
       "      <td>Private room</td>\n",
       "      <td>100</td>\n",
       "      <td>1</td>\n",
       "      <td>4</td>\n",
       "      <td>2018-11-04</td>\n",
       "      <td>0.04</td>\n",
       "      <td>2</td>\n",
       "      <td>365</td>\n",
       "    </tr>\n",
       "    <tr>\n",
       "      <th>4</th>\n",
       "      <td>36299</td>\n",
       "      <td>Kew Gardens 3BR house in cul-de-sac</td>\n",
       "      <td>155938</td>\n",
       "      <td>Geert</td>\n",
       "      <td>NaN</td>\n",
       "      <td>Richmond upon Thames</td>\n",
       "      <td>51.479345</td>\n",
       "      <td>-0.280662</td>\n",
       "      <td>Entire home/apt</td>\n",
       "      <td>195</td>\n",
       "      <td>3</td>\n",
       "      <td>63</td>\n",
       "      <td>2018-12-30</td>\n",
       "      <td>0.63</td>\n",
       "      <td>1</td>\n",
       "      <td>279</td>\n",
       "    </tr>\n",
       "    <tr>\n",
       "      <th>...</th>\n",
       "      <td>...</td>\n",
       "      <td>...</td>\n",
       "      <td>...</td>\n",
       "      <td>...</td>\n",
       "      <td>...</td>\n",
       "      <td>...</td>\n",
       "      <td>...</td>\n",
       "      <td>...</td>\n",
       "      <td>...</td>\n",
       "      <td>...</td>\n",
       "      <td>...</td>\n",
       "      <td>...</td>\n",
       "      <td>...</td>\n",
       "      <td>...</td>\n",
       "      <td>...</td>\n",
       "      <td>...</td>\n",
       "    </tr>\n",
       "    <tr>\n",
       "      <th>85063</th>\n",
       "      <td>38398365</td>\n",
       "      <td>Beautiful flat in Central London</td>\n",
       "      <td>24782379</td>\n",
       "      <td>Shabnam</td>\n",
       "      <td>NaN</td>\n",
       "      <td>Lambeth</td>\n",
       "      <td>51.486010</td>\n",
       "      <td>-0.127660</td>\n",
       "      <td>Entire home/apt</td>\n",
       "      <td>117</td>\n",
       "      <td>3</td>\n",
       "      <td>2</td>\n",
       "      <td>2019-11-04</td>\n",
       "      <td>2.00</td>\n",
       "      <td>1</td>\n",
       "      <td>59</td>\n",
       "    </tr>\n",
       "    <tr>\n",
       "      <th>85064</th>\n",
       "      <td>39869123</td>\n",
       "      <td>Elegant stylish modern house with amazing view!</td>\n",
       "      <td>21145791</td>\n",
       "      <td>Ingrid</td>\n",
       "      <td>NaN</td>\n",
       "      <td>Merton</td>\n",
       "      <td>51.406280</td>\n",
       "      <td>-0.232440</td>\n",
       "      <td>Private room</td>\n",
       "      <td>69</td>\n",
       "      <td>2</td>\n",
       "      <td>0</td>\n",
       "      <td>NaT</td>\n",
       "      <td>NaN</td>\n",
       "      <td>2</td>\n",
       "      <td>113</td>\n",
       "    </tr>\n",
       "    <tr>\n",
       "      <th>85065</th>\n",
       "      <td>39869214</td>\n",
       "      <td>Holland Road - Kensington Olympia</td>\n",
       "      <td>251922260</td>\n",
       "      <td>Christian</td>\n",
       "      <td>NaN</td>\n",
       "      <td>Hammersmith and Fulham</td>\n",
       "      <td>51.502440</td>\n",
       "      <td>-0.215470</td>\n",
       "      <td>Entire home/apt</td>\n",
       "      <td>90</td>\n",
       "      <td>3</td>\n",
       "      <td>0</td>\n",
       "      <td>NaT</td>\n",
       "      <td>NaN</td>\n",
       "      <td>4</td>\n",
       "      <td>63</td>\n",
       "    </tr>\n",
       "    <tr>\n",
       "      <th>85066</th>\n",
       "      <td>39869249</td>\n",
       "      <td>Functional single room 18 min to London Bridge</td>\n",
       "      <td>255372486</td>\n",
       "      <td>Nudrat</td>\n",
       "      <td>NaN</td>\n",
       "      <td>Bromley</td>\n",
       "      <td>51.357420</td>\n",
       "      <td>0.107640</td>\n",
       "      <td>Private room</td>\n",
       "      <td>30</td>\n",
       "      <td>2</td>\n",
       "      <td>0</td>\n",
       "      <td>NaT</td>\n",
       "      <td>NaN</td>\n",
       "      <td>4</td>\n",
       "      <td>1</td>\n",
       "    </tr>\n",
       "    <tr>\n",
       "      <th>85067</th>\n",
       "      <td>39869282</td>\n",
       "      <td>EXQUISITE APARTMENT, PEACEFUL ENVIRONMENT IN SOHO</td>\n",
       "      <td>210531062</td>\n",
       "      <td>Radi</td>\n",
       "      <td>NaN</td>\n",
       "      <td>Westminster</td>\n",
       "      <td>51.510900</td>\n",
       "      <td>-0.124800</td>\n",
       "      <td>Entire home/apt</td>\n",
       "      <td>187</td>\n",
       "      <td>1</td>\n",
       "      <td>0</td>\n",
       "      <td>NaT</td>\n",
       "      <td>NaN</td>\n",
       "      <td>1</td>\n",
       "      <td>311</td>\n",
       "    </tr>\n",
       "  </tbody>\n",
       "</table>\n",
       "<p>817579 rows × 16 columns</p>\n",
       "</div>"
      ],
      "text/plain": [
       "             id                                               name    host_id  \\\n",
       "0          9554                 Cozy, 3 minutes to Piccadilly Line      31655   \n",
       "1         25123                  Clean big Room in London (Room 1)     103583   \n",
       "2         28010                  LOVELY Dbl Bedroom in Shoreditch!     119316   \n",
       "3         33332  Twickenham Stadium & Wimbledon easy reach Ensuite     144444   \n",
       "4         36299                Kew Gardens 3BR house in cul-de-sac     155938   \n",
       "...         ...                                                ...        ...   \n",
       "85063  38398365                   Beautiful flat in Central London   24782379   \n",
       "85064  39869123    Elegant stylish modern house with amazing view!   21145791   \n",
       "85065  39869214                  Holland Road - Kensington Olympia  251922260   \n",
       "85066  39869249     Functional single room 18 min to London Bridge  255372486   \n",
       "85067  39869282  EXQUISITE APARTMENT, PEACEFUL ENVIRONMENT IN SOHO  210531062   \n",
       "\n",
       "       host_name  neighbourhood_group           neighbourhood   latitude  \\\n",
       "0            Guy                  NaN                Haringey  51.587767   \n",
       "1          Grace                  NaN                  Barnet  51.572243   \n",
       "2      Valentina                  NaN           Tower Hamlets  51.524969   \n",
       "3        Chi-Chi                  NaN                Hounslow  51.465074   \n",
       "4          Geert                  NaN    Richmond upon Thames  51.479345   \n",
       "...          ...                  ...                     ...        ...   \n",
       "85063    Shabnam                  NaN                 Lambeth  51.486010   \n",
       "85064     Ingrid                  NaN                  Merton  51.406280   \n",
       "85065  Christian                  NaN  Hammersmith and Fulham  51.502440   \n",
       "85066     Nudrat                  NaN                 Bromley  51.357420   \n",
       "85067       Radi                  NaN             Westminster  51.510900   \n",
       "\n",
       "       longitude        room_type  price  minimum_nights  number_of_reviews  \\\n",
       "0      -0.105666     Private room     35               1                134   \n",
       "1      -0.209060     Private room     29              15                118   \n",
       "2      -0.073727     Private room     50               3                 38   \n",
       "3      -0.324207     Private room    100               1                  4   \n",
       "4      -0.280662  Entire home/apt    195               3                 63   \n",
       "...          ...              ...    ...             ...                ...   \n",
       "85063  -0.127660  Entire home/apt    117               3                  2   \n",
       "85064  -0.232440     Private room     69               2                  0   \n",
       "85065  -0.215470  Entire home/apt     90               3                  0   \n",
       "85066   0.107640     Private room     30               2                  0   \n",
       "85067  -0.124800  Entire home/apt    187               1                  0   \n",
       "\n",
       "      last_review  reviews_per_month  calculated_host_listings_count  \\\n",
       "0      2019-01-01               1.64                               4   \n",
       "1      2018-11-01               1.11                               4   \n",
       "2      2018-01-02               0.48                               3   \n",
       "3      2018-11-04               0.04                               2   \n",
       "4      2018-12-30               0.63                               1   \n",
       "...           ...                ...                             ...   \n",
       "85063  2019-11-04               2.00                               1   \n",
       "85064         NaT                NaN                               2   \n",
       "85065         NaT                NaN                               4   \n",
       "85066         NaT                NaN                               4   \n",
       "85067         NaT                NaN                               1   \n",
       "\n",
       "       availability_365  \n",
       "0                     0  \n",
       "1                     0  \n",
       "2                    81  \n",
       "3                   365  \n",
       "4                   279  \n",
       "...                 ...  \n",
       "85063                59  \n",
       "85064               113  \n",
       "85065                63  \n",
       "85066                 1  \n",
       "85067               311  \n",
       "\n",
       "[817579 rows x 16 columns]"
      ]
     },
     "execution_count": 107,
     "metadata": {},
     "output_type": "execute_result"
    }
   ],
   "source": [
    "airbnb_df_2019"
   ]
  },
  {
   "cell_type": "markdown",
   "metadata": {},
   "source": [
    "## Data cleaning and feature engineering"
   ]
  },
  {
   "cell_type": "markdown",
   "metadata": {},
   "source": [
    "### check dtypes"
   ]
  },
  {
   "cell_type": "code",
   "execution_count": 108,
   "metadata": {},
   "outputs": [
    {
     "data": {
      "text/plain": [
       "id                                         int64\n",
       "name                                      object\n",
       "host_id                                    int64\n",
       "host_name                                 object\n",
       "neighbourhood_group                      float64\n",
       "neighbourhood                             object\n",
       "latitude                                 float64\n",
       "longitude                                float64\n",
       "room_type                                 object\n",
       "price                                      int64\n",
       "minimum_nights                             int64\n",
       "number_of_reviews                          int64\n",
       "last_review                       datetime64[ns]\n",
       "reviews_per_month                        float64\n",
       "calculated_host_listings_count             int64\n",
       "availability_365                           int64\n",
       "dtype: object"
      ]
     },
     "execution_count": 108,
     "metadata": {},
     "output_type": "execute_result"
    }
   ],
   "source": [
    "airbnb_df_2019.dtypes"
   ]
  },
  {
   "cell_type": "markdown",
   "metadata": {},
   "source": [
    "### drop missing value columns"
   ]
  },
  {
   "cell_type": "code",
   "execution_count": 109,
   "metadata": {},
   "outputs": [
    {
     "data": {
      "text/plain": [
       "id                                     0\n",
       "name                                 266\n",
       "host_id                                0\n",
       "host_name                            472\n",
       "neighbourhood_group               817579\n",
       "neighbourhood                          0\n",
       "latitude                               0\n",
       "longitude                              0\n",
       "room_type                              0\n",
       "price                                  0\n",
       "minimum_nights                         0\n",
       "number_of_reviews                      0\n",
       "last_review                       203879\n",
       "reviews_per_month                 203879\n",
       "calculated_host_listings_count         0\n",
       "availability_365                       0\n",
       "dtype: int64"
      ]
     },
     "execution_count": 109,
     "metadata": {},
     "output_type": "execute_result"
    }
   ],
   "source": [
    "airbnb_df_2019.isnull().sum()"
   ]
  },
  {
   "cell_type": "code",
   "execution_count": 110,
   "metadata": {},
   "outputs": [],
   "source": [
    "airbnb_df_2019.drop(['host_name','neighbourhood_group'], axis=1,inplace=True)"
   ]
  },
  {
   "cell_type": "code",
   "execution_count": 111,
   "metadata": {},
   "outputs": [
    {
     "data": {
      "text/plain": [
       "id                                     0\n",
       "name                                 266\n",
       "host_id                                0\n",
       "neighbourhood                          0\n",
       "latitude                               0\n",
       "longitude                              0\n",
       "room_type                              0\n",
       "price                                  0\n",
       "minimum_nights                         0\n",
       "number_of_reviews                      0\n",
       "last_review                       203879\n",
       "reviews_per_month                 203879\n",
       "calculated_host_listings_count         0\n",
       "availability_365                       0\n",
       "dtype: int64"
      ]
     },
     "execution_count": 111,
     "metadata": {},
     "output_type": "execute_result"
    }
   ],
   "source": [
    "airbnb_df_2019.isnull().sum()"
   ]
  },
  {
   "cell_type": "markdown",
   "metadata": {},
   "source": [
    "### create a column of length of the name"
   ]
  },
  {
   "cell_type": "markdown",
   "metadata": {},
   "source": [
    "We will treat missng valyes equal to zero"
   ]
  },
  {
   "cell_type": "code",
   "execution_count": 112,
   "metadata": {},
   "outputs": [],
   "source": [
    "fix_missing_name(airbnb_df_2019,'name')"
   ]
  },
  {
   "cell_type": "code",
   "execution_count": 113,
   "metadata": {},
   "outputs": [],
   "source": [
    "airbnb_df_2019['name_len'] = airbnb_df_2019['name'].apply(lambda x:len(str(x).split()))"
   ]
  },
  {
   "cell_type": "code",
   "execution_count": 114,
   "metadata": {},
   "outputs": [
    {
     "data": {
      "text/html": [
       "<div>\n",
       "<style scoped>\n",
       "    .dataframe tbody tr th:only-of-type {\n",
       "        vertical-align: middle;\n",
       "    }\n",
       "\n",
       "    .dataframe tbody tr th {\n",
       "        vertical-align: top;\n",
       "    }\n",
       "\n",
       "    .dataframe thead th {\n",
       "        text-align: right;\n",
       "    }\n",
       "</style>\n",
       "<table border=\"1\" class=\"dataframe\">\n",
       "  <thead>\n",
       "    <tr style=\"text-align: right;\">\n",
       "      <th></th>\n",
       "      <th>id</th>\n",
       "      <th>name</th>\n",
       "      <th>host_id</th>\n",
       "      <th>neighbourhood</th>\n",
       "      <th>latitude</th>\n",
       "      <th>longitude</th>\n",
       "      <th>room_type</th>\n",
       "      <th>price</th>\n",
       "      <th>minimum_nights</th>\n",
       "      <th>number_of_reviews</th>\n",
       "      <th>last_review</th>\n",
       "      <th>reviews_per_month</th>\n",
       "      <th>calculated_host_listings_count</th>\n",
       "      <th>availability_365</th>\n",
       "      <th>name_len</th>\n",
       "    </tr>\n",
       "  </thead>\n",
       "  <tbody>\n",
       "    <tr>\n",
       "      <th>0</th>\n",
       "      <td>9554</td>\n",
       "      <td>Cozy, 3 minutes to Piccadilly Line</td>\n",
       "      <td>31655</td>\n",
       "      <td>Haringey</td>\n",
       "      <td>51.587767</td>\n",
       "      <td>-0.105666</td>\n",
       "      <td>Private room</td>\n",
       "      <td>35</td>\n",
       "      <td>1</td>\n",
       "      <td>134</td>\n",
       "      <td>2019-01-01</td>\n",
       "      <td>1.64</td>\n",
       "      <td>4</td>\n",
       "      <td>0</td>\n",
       "      <td>6</td>\n",
       "    </tr>\n",
       "    <tr>\n",
       "      <th>1</th>\n",
       "      <td>25123</td>\n",
       "      <td>Clean big Room in London (Room 1)</td>\n",
       "      <td>103583</td>\n",
       "      <td>Barnet</td>\n",
       "      <td>51.572243</td>\n",
       "      <td>-0.209060</td>\n",
       "      <td>Private room</td>\n",
       "      <td>29</td>\n",
       "      <td>15</td>\n",
       "      <td>118</td>\n",
       "      <td>2018-11-01</td>\n",
       "      <td>1.11</td>\n",
       "      <td>4</td>\n",
       "      <td>0</td>\n",
       "      <td>7</td>\n",
       "    </tr>\n",
       "    <tr>\n",
       "      <th>2</th>\n",
       "      <td>28010</td>\n",
       "      <td>LOVELY Dbl Bedroom in Shoreditch!</td>\n",
       "      <td>119316</td>\n",
       "      <td>Tower Hamlets</td>\n",
       "      <td>51.524969</td>\n",
       "      <td>-0.073727</td>\n",
       "      <td>Private room</td>\n",
       "      <td>50</td>\n",
       "      <td>3</td>\n",
       "      <td>38</td>\n",
       "      <td>2018-01-02</td>\n",
       "      <td>0.48</td>\n",
       "      <td>3</td>\n",
       "      <td>81</td>\n",
       "      <td>5</td>\n",
       "    </tr>\n",
       "    <tr>\n",
       "      <th>3</th>\n",
       "      <td>33332</td>\n",
       "      <td>Twickenham Stadium &amp; Wimbledon easy reach Ensuite</td>\n",
       "      <td>144444</td>\n",
       "      <td>Hounslow</td>\n",
       "      <td>51.465074</td>\n",
       "      <td>-0.324207</td>\n",
       "      <td>Private room</td>\n",
       "      <td>100</td>\n",
       "      <td>1</td>\n",
       "      <td>4</td>\n",
       "      <td>2018-11-04</td>\n",
       "      <td>0.04</td>\n",
       "      <td>2</td>\n",
       "      <td>365</td>\n",
       "      <td>7</td>\n",
       "    </tr>\n",
       "    <tr>\n",
       "      <th>4</th>\n",
       "      <td>36299</td>\n",
       "      <td>Kew Gardens 3BR house in cul-de-sac</td>\n",
       "      <td>155938</td>\n",
       "      <td>Richmond upon Thames</td>\n",
       "      <td>51.479345</td>\n",
       "      <td>-0.280662</td>\n",
       "      <td>Entire home/apt</td>\n",
       "      <td>195</td>\n",
       "      <td>3</td>\n",
       "      <td>63</td>\n",
       "      <td>2018-12-30</td>\n",
       "      <td>0.63</td>\n",
       "      <td>1</td>\n",
       "      <td>279</td>\n",
       "      <td>6</td>\n",
       "    </tr>\n",
       "    <tr>\n",
       "      <th>...</th>\n",
       "      <td>...</td>\n",
       "      <td>...</td>\n",
       "      <td>...</td>\n",
       "      <td>...</td>\n",
       "      <td>...</td>\n",
       "      <td>...</td>\n",
       "      <td>...</td>\n",
       "      <td>...</td>\n",
       "      <td>...</td>\n",
       "      <td>...</td>\n",
       "      <td>...</td>\n",
       "      <td>...</td>\n",
       "      <td>...</td>\n",
       "      <td>...</td>\n",
       "      <td>...</td>\n",
       "    </tr>\n",
       "    <tr>\n",
       "      <th>85063</th>\n",
       "      <td>38398365</td>\n",
       "      <td>Beautiful flat in Central London</td>\n",
       "      <td>24782379</td>\n",
       "      <td>Lambeth</td>\n",
       "      <td>51.486010</td>\n",
       "      <td>-0.127660</td>\n",
       "      <td>Entire home/apt</td>\n",
       "      <td>117</td>\n",
       "      <td>3</td>\n",
       "      <td>2</td>\n",
       "      <td>2019-11-04</td>\n",
       "      <td>2.00</td>\n",
       "      <td>1</td>\n",
       "      <td>59</td>\n",
       "      <td>5</td>\n",
       "    </tr>\n",
       "    <tr>\n",
       "      <th>85064</th>\n",
       "      <td>39869123</td>\n",
       "      <td>Elegant stylish modern house with amazing view!</td>\n",
       "      <td>21145791</td>\n",
       "      <td>Merton</td>\n",
       "      <td>51.406280</td>\n",
       "      <td>-0.232440</td>\n",
       "      <td>Private room</td>\n",
       "      <td>69</td>\n",
       "      <td>2</td>\n",
       "      <td>0</td>\n",
       "      <td>NaT</td>\n",
       "      <td>NaN</td>\n",
       "      <td>2</td>\n",
       "      <td>113</td>\n",
       "      <td>7</td>\n",
       "    </tr>\n",
       "    <tr>\n",
       "      <th>85065</th>\n",
       "      <td>39869214</td>\n",
       "      <td>Holland Road - Kensington Olympia</td>\n",
       "      <td>251922260</td>\n",
       "      <td>Hammersmith and Fulham</td>\n",
       "      <td>51.502440</td>\n",
       "      <td>-0.215470</td>\n",
       "      <td>Entire home/apt</td>\n",
       "      <td>90</td>\n",
       "      <td>3</td>\n",
       "      <td>0</td>\n",
       "      <td>NaT</td>\n",
       "      <td>NaN</td>\n",
       "      <td>4</td>\n",
       "      <td>63</td>\n",
       "      <td>5</td>\n",
       "    </tr>\n",
       "    <tr>\n",
       "      <th>85066</th>\n",
       "      <td>39869249</td>\n",
       "      <td>Functional single room 18 min to London Bridge</td>\n",
       "      <td>255372486</td>\n",
       "      <td>Bromley</td>\n",
       "      <td>51.357420</td>\n",
       "      <td>0.107640</td>\n",
       "      <td>Private room</td>\n",
       "      <td>30</td>\n",
       "      <td>2</td>\n",
       "      <td>0</td>\n",
       "      <td>NaT</td>\n",
       "      <td>NaN</td>\n",
       "      <td>4</td>\n",
       "      <td>1</td>\n",
       "      <td>8</td>\n",
       "    </tr>\n",
       "    <tr>\n",
       "      <th>85067</th>\n",
       "      <td>39869282</td>\n",
       "      <td>EXQUISITE APARTMENT, PEACEFUL ENVIRONMENT IN SOHO</td>\n",
       "      <td>210531062</td>\n",
       "      <td>Westminster</td>\n",
       "      <td>51.510900</td>\n",
       "      <td>-0.124800</td>\n",
       "      <td>Entire home/apt</td>\n",
       "      <td>187</td>\n",
       "      <td>1</td>\n",
       "      <td>0</td>\n",
       "      <td>NaT</td>\n",
       "      <td>NaN</td>\n",
       "      <td>1</td>\n",
       "      <td>311</td>\n",
       "      <td>6</td>\n",
       "    </tr>\n",
       "  </tbody>\n",
       "</table>\n",
       "<p>817579 rows × 15 columns</p>\n",
       "</div>"
      ],
      "text/plain": [
       "             id                                               name    host_id  \\\n",
       "0          9554                 Cozy, 3 minutes to Piccadilly Line      31655   \n",
       "1         25123                  Clean big Room in London (Room 1)     103583   \n",
       "2         28010                  LOVELY Dbl Bedroom in Shoreditch!     119316   \n",
       "3         33332  Twickenham Stadium & Wimbledon easy reach Ensuite     144444   \n",
       "4         36299                Kew Gardens 3BR house in cul-de-sac     155938   \n",
       "...         ...                                                ...        ...   \n",
       "85063  38398365                   Beautiful flat in Central London   24782379   \n",
       "85064  39869123    Elegant stylish modern house with amazing view!   21145791   \n",
       "85065  39869214                  Holland Road - Kensington Olympia  251922260   \n",
       "85066  39869249     Functional single room 18 min to London Bridge  255372486   \n",
       "85067  39869282  EXQUISITE APARTMENT, PEACEFUL ENVIRONMENT IN SOHO  210531062   \n",
       "\n",
       "                neighbourhood   latitude  longitude        room_type  price  \\\n",
       "0                    Haringey  51.587767  -0.105666     Private room     35   \n",
       "1                      Barnet  51.572243  -0.209060     Private room     29   \n",
       "2               Tower Hamlets  51.524969  -0.073727     Private room     50   \n",
       "3                    Hounslow  51.465074  -0.324207     Private room    100   \n",
       "4        Richmond upon Thames  51.479345  -0.280662  Entire home/apt    195   \n",
       "...                       ...        ...        ...              ...    ...   \n",
       "85063                 Lambeth  51.486010  -0.127660  Entire home/apt    117   \n",
       "85064                  Merton  51.406280  -0.232440     Private room     69   \n",
       "85065  Hammersmith and Fulham  51.502440  -0.215470  Entire home/apt     90   \n",
       "85066                 Bromley  51.357420   0.107640     Private room     30   \n",
       "85067             Westminster  51.510900  -0.124800  Entire home/apt    187   \n",
       "\n",
       "       minimum_nights  number_of_reviews last_review  reviews_per_month  \\\n",
       "0                   1                134  2019-01-01               1.64   \n",
       "1                  15                118  2018-11-01               1.11   \n",
       "2                   3                 38  2018-01-02               0.48   \n",
       "3                   1                  4  2018-11-04               0.04   \n",
       "4                   3                 63  2018-12-30               0.63   \n",
       "...               ...                ...         ...                ...   \n",
       "85063               3                  2  2019-11-04               2.00   \n",
       "85064               2                  0         NaT                NaN   \n",
       "85065               3                  0         NaT                NaN   \n",
       "85066               2                  0         NaT                NaN   \n",
       "85067               1                  0         NaT                NaN   \n",
       "\n",
       "       calculated_host_listings_count  availability_365  name_len  \n",
       "0                                   4                 0         6  \n",
       "1                                   4                 0         7  \n",
       "2                                   3                81         5  \n",
       "3                                   2               365         7  \n",
       "4                                   1               279         6  \n",
       "...                               ...               ...       ...  \n",
       "85063                               1                59         5  \n",
       "85064                               2               113         7  \n",
       "85065                               4                63         5  \n",
       "85066                               4                 1         8  \n",
       "85067                               1               311         6  \n",
       "\n",
       "[817579 rows x 15 columns]"
      ]
     },
     "execution_count": 114,
     "metadata": {},
     "output_type": "execute_result"
    }
   ],
   "source": [
    "airbnb_df_2019"
   ]
  },
  {
   "cell_type": "markdown",
   "metadata": {},
   "source": [
    "### check catgorical variables"
   ]
  },
  {
   "cell_type": "code",
   "execution_count": 115,
   "metadata": {},
   "outputs": [],
   "source": [
    "cat_var=[]\n",
    "for column in airbnb_df_2019.columns:\n",
    "    if airbnb_df_2019[column].dtype=='object':\n",
    "        cat_var.append(column)"
   ]
  },
  {
   "cell_type": "code",
   "execution_count": 116,
   "metadata": {},
   "outputs": [
    {
     "data": {
      "text/plain": [
       "['name', 'neighbourhood', 'room_type']"
      ]
     },
     "execution_count": 116,
     "metadata": {},
     "output_type": "execute_result"
    }
   ],
   "source": [
    "cat_var"
   ]
  },
  {
   "cell_type": "markdown",
   "metadata": {},
   "source": [
    "### change object dtypes to catgorical codes"
   ]
  },
  {
   "cell_type": "code",
   "execution_count": 117,
   "metadata": {},
   "outputs": [],
   "source": [
    "train_cats(airbnb_df_2019)"
   ]
  },
  {
   "cell_type": "code",
   "execution_count": 118,
   "metadata": {},
   "outputs": [
    {
     "data": {
      "text/plain": [
       "id                                         int64\n",
       "name                                    category\n",
       "host_id                                    int64\n",
       "neighbourhood                           category\n",
       "latitude                                 float64\n",
       "longitude                                float64\n",
       "room_type                               category\n",
       "price                                      int64\n",
       "minimum_nights                             int64\n",
       "number_of_reviews                          int64\n",
       "last_review                       datetime64[ns]\n",
       "reviews_per_month                        float64\n",
       "calculated_host_listings_count             int64\n",
       "availability_365                           int64\n",
       "name_len                                   int64\n",
       "dtype: object"
      ]
     },
     "execution_count": 118,
     "metadata": {},
     "output_type": "execute_result"
    }
   ],
   "source": [
    "airbnb_df_2019.dtypes"
   ]
  },
  {
   "cell_type": "code",
   "execution_count": 119,
   "metadata": {},
   "outputs": [],
   "source": [
    "for _ in cat_var:\n",
    "    airbnb_df_2019[_] = airbnb_df_2019[_].cat.codes"
   ]
  },
  {
   "cell_type": "code",
   "execution_count": 120,
   "metadata": {},
   "outputs": [
    {
     "data": {
      "text/plain": [
       "id                                         int64\n",
       "name                                       int32\n",
       "host_id                                    int64\n",
       "neighbourhood                               int8\n",
       "latitude                                 float64\n",
       "longitude                                float64\n",
       "room_type                                   int8\n",
       "price                                      int64\n",
       "minimum_nights                             int64\n",
       "number_of_reviews                          int64\n",
       "last_review                       datetime64[ns]\n",
       "reviews_per_month                        float64\n",
       "calculated_host_listings_count             int64\n",
       "availability_365                           int64\n",
       "name_len                                   int64\n",
       "dtype: object"
      ]
     },
     "execution_count": 120,
     "metadata": {},
     "output_type": "execute_result"
    }
   ],
   "source": [
    "airbnb_df_2019.dtypes"
   ]
  },
  {
   "cell_type": "code",
   "execution_count": 121,
   "metadata": {},
   "outputs": [],
   "source": [
    "fix_missing(airbnb_df_2019,'reviews_per_month')"
   ]
  },
  {
   "cell_type": "code",
   "execution_count": 122,
   "metadata": {},
   "outputs": [
    {
     "data": {
      "text/plain": [
       "True"
      ]
     },
     "execution_count": 122,
     "metadata": {},
     "output_type": "execute_result"
    }
   ],
   "source": [
    "airbnb_df_2019['last_review'].dtypes == 'datetime64[ns]'"
   ]
  },
  {
   "cell_type": "code",
   "execution_count": 123,
   "metadata": {},
   "outputs": [],
   "source": [
    "fix_missing_date(airbnb_df_2019, 'last_review')"
   ]
  },
  {
   "cell_type": "code",
   "execution_count": 124,
   "metadata": {
    "scrolled": true
   },
   "outputs": [
    {
     "data": {
      "text/plain": [
       "id                                0\n",
       "name                              0\n",
       "host_id                           0\n",
       "neighbourhood                     0\n",
       "latitude                          0\n",
       "longitude                         0\n",
       "room_type                         0\n",
       "price                             0\n",
       "minimum_nights                    0\n",
       "number_of_reviews                 0\n",
       "last_review                       0\n",
       "reviews_per_month                 0\n",
       "calculated_host_listings_count    0\n",
       "availability_365                  0\n",
       "name_len                          0\n",
       "dtype: int64"
      ]
     },
     "execution_count": 124,
     "metadata": {},
     "output_type": "execute_result"
    }
   ],
   "source": [
    "airbnb_df_2019.isnull().sum()"
   ]
  },
  {
   "cell_type": "code",
   "execution_count": 125,
   "metadata": {},
   "outputs": [
    {
     "data": {
      "text/plain": [
       "id                                         int64\n",
       "name                                       int32\n",
       "host_id                                    int64\n",
       "neighbourhood                               int8\n",
       "latitude                                 float64\n",
       "longitude                                float64\n",
       "room_type                                   int8\n",
       "price                                      int64\n",
       "minimum_nights                             int64\n",
       "number_of_reviews                          int64\n",
       "last_review                       datetime64[ns]\n",
       "reviews_per_month                        float64\n",
       "calculated_host_listings_count             int64\n",
       "availability_365                           int64\n",
       "name_len                                   int64\n",
       "dtype: object"
      ]
     },
     "execution_count": 125,
     "metadata": {},
     "output_type": "execute_result"
    }
   ],
   "source": [
    "airbnb_df_2019.dtypes"
   ]
  },
  {
   "cell_type": "code",
   "execution_count": 126,
   "metadata": {},
   "outputs": [
    {
     "data": {
      "text/html": [
       "<div>\n",
       "<style scoped>\n",
       "    .dataframe tbody tr th:only-of-type {\n",
       "        vertical-align: middle;\n",
       "    }\n",
       "\n",
       "    .dataframe tbody tr th {\n",
       "        vertical-align: top;\n",
       "    }\n",
       "\n",
       "    .dataframe thead th {\n",
       "        text-align: right;\n",
       "    }\n",
       "</style>\n",
       "<table border=\"1\" class=\"dataframe\">\n",
       "  <thead>\n",
       "    <tr style=\"text-align: right;\">\n",
       "      <th></th>\n",
       "      <th>id</th>\n",
       "      <th>name</th>\n",
       "      <th>host_id</th>\n",
       "      <th>neighbourhood</th>\n",
       "      <th>latitude</th>\n",
       "      <th>longitude</th>\n",
       "      <th>room_type</th>\n",
       "      <th>price</th>\n",
       "      <th>minimum_nights</th>\n",
       "      <th>number_of_reviews</th>\n",
       "      <th>last_review</th>\n",
       "      <th>reviews_per_month</th>\n",
       "      <th>calculated_host_listings_count</th>\n",
       "      <th>availability_365</th>\n",
       "      <th>name_len</th>\n",
       "    </tr>\n",
       "  </thead>\n",
       "  <tbody>\n",
       "    <tr>\n",
       "      <th>0</th>\n",
       "      <td>9554</td>\n",
       "      <td>46581</td>\n",
       "      <td>31655</td>\n",
       "      <td>13</td>\n",
       "      <td>51.587767</td>\n",
       "      <td>-0.105666</td>\n",
       "      <td>2</td>\n",
       "      <td>35</td>\n",
       "      <td>1</td>\n",
       "      <td>134</td>\n",
       "      <td>2019-01-01</td>\n",
       "      <td>1.64</td>\n",
       "      <td>4</td>\n",
       "      <td>0</td>\n",
       "      <td>6</td>\n",
       "    </tr>\n",
       "    <tr>\n",
       "      <th>1</th>\n",
       "      <td>25123</td>\n",
       "      <td>37299</td>\n",
       "      <td>103583</td>\n",
       "      <td>1</td>\n",
       "      <td>51.572243</td>\n",
       "      <td>-0.209060</td>\n",
       "      <td>2</td>\n",
       "      <td>29</td>\n",
       "      <td>15</td>\n",
       "      <td>118</td>\n",
       "      <td>2018-11-01</td>\n",
       "      <td>1.11</td>\n",
       "      <td>4</td>\n",
       "      <td>0</td>\n",
       "      <td>7</td>\n",
       "    </tr>\n",
       "    <tr>\n",
       "      <th>2</th>\n",
       "      <td>28010</td>\n",
       "      <td>71702</td>\n",
       "      <td>119316</td>\n",
       "      <td>29</td>\n",
       "      <td>51.524969</td>\n",
       "      <td>-0.073727</td>\n",
       "      <td>2</td>\n",
       "      <td>50</td>\n",
       "      <td>3</td>\n",
       "      <td>38</td>\n",
       "      <td>2018-01-02</td>\n",
       "      <td>0.48</td>\n",
       "      <td>3</td>\n",
       "      <td>81</td>\n",
       "      <td>5</td>\n",
       "    </tr>\n",
       "    <tr>\n",
       "      <th>3</th>\n",
       "      <td>33332</td>\n",
       "      <td>131978</td>\n",
       "      <td>144444</td>\n",
       "      <td>17</td>\n",
       "      <td>51.465074</td>\n",
       "      <td>-0.324207</td>\n",
       "      <td>2</td>\n",
       "      <td>100</td>\n",
       "      <td>1</td>\n",
       "      <td>4</td>\n",
       "      <td>2018-11-04</td>\n",
       "      <td>0.04</td>\n",
       "      <td>2</td>\n",
       "      <td>365</td>\n",
       "      <td>7</td>\n",
       "    </tr>\n",
       "    <tr>\n",
       "      <th>4</th>\n",
       "      <td>36299</td>\n",
       "      <td>70330</td>\n",
       "      <td>155938</td>\n",
       "      <td>26</td>\n",
       "      <td>51.479345</td>\n",
       "      <td>-0.280662</td>\n",
       "      <td>0</td>\n",
       "      <td>195</td>\n",
       "      <td>3</td>\n",
       "      <td>63</td>\n",
       "      <td>2018-12-30</td>\n",
       "      <td>0.63</td>\n",
       "      <td>1</td>\n",
       "      <td>279</td>\n",
       "      <td>6</td>\n",
       "    </tr>\n",
       "    <tr>\n",
       "      <th>...</th>\n",
       "      <td>...</td>\n",
       "      <td>...</td>\n",
       "      <td>...</td>\n",
       "      <td>...</td>\n",
       "      <td>...</td>\n",
       "      <td>...</td>\n",
       "      <td>...</td>\n",
       "      <td>...</td>\n",
       "      <td>...</td>\n",
       "      <td>...</td>\n",
       "      <td>...</td>\n",
       "      <td>...</td>\n",
       "      <td>...</td>\n",
       "      <td>...</td>\n",
       "      <td>...</td>\n",
       "    </tr>\n",
       "    <tr>\n",
       "      <th>85063</th>\n",
       "      <td>38398365</td>\n",
       "      <td>20649</td>\n",
       "      <td>24782379</td>\n",
       "      <td>21</td>\n",
       "      <td>51.486010</td>\n",
       "      <td>-0.127660</td>\n",
       "      <td>0</td>\n",
       "      <td>117</td>\n",
       "      <td>3</td>\n",
       "      <td>2</td>\n",
       "      <td>2019-11-04</td>\n",
       "      <td>2.00</td>\n",
       "      <td>1</td>\n",
       "      <td>59</td>\n",
       "      <td>5</td>\n",
       "    </tr>\n",
       "    <tr>\n",
       "      <th>85064</th>\n",
       "      <td>39869123</td>\n",
       "      <td>55549</td>\n",
       "      <td>21145791</td>\n",
       "      <td>23</td>\n",
       "      <td>51.406280</td>\n",
       "      <td>-0.232440</td>\n",
       "      <td>2</td>\n",
       "      <td>69</td>\n",
       "      <td>2</td>\n",
       "      <td>0</td>\n",
       "      <td>2019-12-31</td>\n",
       "      <td>0.72</td>\n",
       "      <td>2</td>\n",
       "      <td>113</td>\n",
       "      <td>7</td>\n",
       "    </tr>\n",
       "    <tr>\n",
       "      <th>85065</th>\n",
       "      <td>39869214</td>\n",
       "      <td>67125</td>\n",
       "      <td>251922260</td>\n",
       "      <td>12</td>\n",
       "      <td>51.502440</td>\n",
       "      <td>-0.215470</td>\n",
       "      <td>0</td>\n",
       "      <td>90</td>\n",
       "      <td>3</td>\n",
       "      <td>0</td>\n",
       "      <td>2019-12-31</td>\n",
       "      <td>0.72</td>\n",
       "      <td>4</td>\n",
       "      <td>63</td>\n",
       "      <td>5</td>\n",
       "    </tr>\n",
       "    <tr>\n",
       "      <th>85066</th>\n",
       "      <td>39869249</td>\n",
       "      <td>61646</td>\n",
       "      <td>255372486</td>\n",
       "      <td>4</td>\n",
       "      <td>51.357420</td>\n",
       "      <td>0.107640</td>\n",
       "      <td>2</td>\n",
       "      <td>30</td>\n",
       "      <td>2</td>\n",
       "      <td>0</td>\n",
       "      <td>2019-12-31</td>\n",
       "      <td>0.72</td>\n",
       "      <td>4</td>\n",
       "      <td>1</td>\n",
       "      <td>8</td>\n",
       "    </tr>\n",
       "    <tr>\n",
       "      <th>85067</th>\n",
       "      <td>39869282</td>\n",
       "      <td>54403</td>\n",
       "      <td>210531062</td>\n",
       "      <td>32</td>\n",
       "      <td>51.510900</td>\n",
       "      <td>-0.124800</td>\n",
       "      <td>0</td>\n",
       "      <td>187</td>\n",
       "      <td>1</td>\n",
       "      <td>0</td>\n",
       "      <td>2019-12-31</td>\n",
       "      <td>0.72</td>\n",
       "      <td>1</td>\n",
       "      <td>311</td>\n",
       "      <td>6</td>\n",
       "    </tr>\n",
       "  </tbody>\n",
       "</table>\n",
       "<p>817579 rows × 15 columns</p>\n",
       "</div>"
      ],
      "text/plain": [
       "             id    name    host_id  neighbourhood   latitude  longitude  \\\n",
       "0          9554   46581      31655             13  51.587767  -0.105666   \n",
       "1         25123   37299     103583              1  51.572243  -0.209060   \n",
       "2         28010   71702     119316             29  51.524969  -0.073727   \n",
       "3         33332  131978     144444             17  51.465074  -0.324207   \n",
       "4         36299   70330     155938             26  51.479345  -0.280662   \n",
       "...         ...     ...        ...            ...        ...        ...   \n",
       "85063  38398365   20649   24782379             21  51.486010  -0.127660   \n",
       "85064  39869123   55549   21145791             23  51.406280  -0.232440   \n",
       "85065  39869214   67125  251922260             12  51.502440  -0.215470   \n",
       "85066  39869249   61646  255372486              4  51.357420   0.107640   \n",
       "85067  39869282   54403  210531062             32  51.510900  -0.124800   \n",
       "\n",
       "       room_type  price  minimum_nights  number_of_reviews last_review  \\\n",
       "0              2     35               1                134  2019-01-01   \n",
       "1              2     29              15                118  2018-11-01   \n",
       "2              2     50               3                 38  2018-01-02   \n",
       "3              2    100               1                  4  2018-11-04   \n",
       "4              0    195               3                 63  2018-12-30   \n",
       "...          ...    ...             ...                ...         ...   \n",
       "85063          0    117               3                  2  2019-11-04   \n",
       "85064          2     69               2                  0  2019-12-31   \n",
       "85065          0     90               3                  0  2019-12-31   \n",
       "85066          2     30               2                  0  2019-12-31   \n",
       "85067          0    187               1                  0  2019-12-31   \n",
       "\n",
       "       reviews_per_month  calculated_host_listings_count  availability_365  \\\n",
       "0                   1.64                               4                 0   \n",
       "1                   1.11                               4                 0   \n",
       "2                   0.48                               3                81   \n",
       "3                   0.04                               2               365   \n",
       "4                   0.63                               1               279   \n",
       "...                  ...                             ...               ...   \n",
       "85063               2.00                               1                59   \n",
       "85064               0.72                               2               113   \n",
       "85065               0.72                               4                63   \n",
       "85066               0.72                               4                 1   \n",
       "85067               0.72                               1               311   \n",
       "\n",
       "       name_len  \n",
       "0             6  \n",
       "1             7  \n",
       "2             5  \n",
       "3             7  \n",
       "4             6  \n",
       "...         ...  \n",
       "85063         5  \n",
       "85064         7  \n",
       "85065         5  \n",
       "85066         8  \n",
       "85067         6  \n",
       "\n",
       "[817579 rows x 15 columns]"
      ]
     },
     "execution_count": 126,
     "metadata": {},
     "output_type": "execute_result"
    }
   ],
   "source": [
    "airbnb_df_2019"
   ]
  },
  {
   "cell_type": "markdown",
   "metadata": {},
   "source": [
    "### Question: is there a statistical significance between number of reviews and price?"
   ]
  },
  {
   "cell_type": "code",
   "execution_count": 127,
   "metadata": {},
   "outputs": [
    {
     "data": {
      "image/png": "[encoded data removed]",
      "text/plain": [
       "<Figure size 864x288 with 1 Axes>"
      ]
     },
     "metadata": {},
     "output_type": "display_data"
    }
   ],
   "source": [
    "fig, ax = plt.subplots(figsize=(12,4))\n",
    "sns.boxplot(x = 'price', \n",
    "            data = airbnb_df_2019, \n",
    "            orient = 'h', \n",
    "            width = 0.8, \n",
    "            fliersize = 3, \n",
    "            showmeans=True, \n",
    "            ax = ax)\n",
    "plt.show()"
   ]
  },
  {
   "cell_type": "code",
   "execution_count": 128,
   "metadata": {},
   "outputs": [
    {
     "name": "stdout",
     "output_type": "stream",
     "text": [
      "0.9 quantile: 220.0\n",
      "0.91 quantile: 230.0\n",
      "0.92 quantile: 250.0\n",
      "0.93 quantile: 257.0\n",
      "0.94 quantile: 286.0\n",
      "0.95 quantile: 300.0\n",
      "0.96 quantile: 350.0\n",
      "0.97 quantile: 400.0\n",
      "0.98 quantile: 498.0\n",
      "0.99 quantile: 690.0\n",
      "1.0 quantile: 20000.0\n"
     ]
    }
   ],
   "source": [
    "check_quantile(airbnb_df_2019['price'])"
   ]
  },
  {
   "cell_type": "code",
   "execution_count": 129,
   "metadata": {},
   "outputs": [],
   "source": [
    "outliers = airbnb_df_2019[(airbnb_df_2019['price'] >= 300)].index\n",
    "airbnb_df_2019.drop(outliers, inplace=True)"
   ]
  },
  {
   "cell_type": "markdown",
   "metadata": {},
   "source": [
    "### Plot relationship between reviews and price"
   ]
  },
  {
   "cell_type": "code",
   "execution_count": 130,
   "metadata": {},
   "outputs": [
    {
     "data": {
      "image/png": "[encoded data removed]",
      "text/plain": [
       "<Figure size 720x720 with 1 Axes>"
      ]
     },
     "metadata": {},
     "output_type": "display_data"
    }
   ],
   "source": [
    "ctrl_q1 = airbnb_df_2019[airbnb_df_2019['number_of_reviews']==0]['price']\n",
    "exper_q1 = airbnb_df_2019[airbnb_df_2019['number_of_reviews']!=0]['price']\n",
    "\n",
    "plt.figure(figsize=(10, 10))\n",
    "sns.distplot(ctrl_q1, label='no review')\n",
    "sns.set_color_codes(\"muted\")\n",
    "sns.distplot(exper_q1, label='with review' )\n",
    "plt.title('no reviews vs with reviews',fontsize=20)\n",
    "plt.xlabel('price',fontsize=20)\n",
    "plt.legend();"
   ]
  },
  {
   "cell_type": "markdown",
   "metadata": {},
   "source": [
    "### Creat two sample T test"
   ]
  },
  {
   "cell_type": "markdown",
   "metadata": {},
   "source": [
    "#### Create sampling data"
   ]
  },
  {
   "cell_type": "code",
   "execution_count": 131,
   "metadata": {},
   "outputs": [
    {
     "data": {
      "text/plain": [
       "NormaltestResult(statistic=15323.958122834152, pvalue=0.0)"
      ]
     },
     "execution_count": 131,
     "metadata": {},
     "output_type": "execute_result"
    }
   ],
   "source": [
    "scipy.stats.normaltest(ctrl_q1)"
   ]
  },
  {
   "cell_type": "code",
   "execution_count": 132,
   "metadata": {},
   "outputs": [
    {
     "data": {
      "text/plain": [
       "NormaltestResult(statistic=59369.48996458057, pvalue=0.0)"
      ]
     },
     "execution_count": 132,
     "metadata": {},
     "output_type": "execute_result"
    }
   ],
   "source": [
    "scipy.stats.normaltest(exper_q1)"
   ]
  },
  {
   "cell_type": "markdown",
   "metadata": {},
   "source": [
    "Both P value equal to zero means the data is not normally distributed"
   ]
  },
  {
   "cell_type": "code",
   "execution_count": 133,
   "metadata": {},
   "outputs": [],
   "source": [
    "ctrl_sample_q1 = create_sample_distribution(ctrl_q1)"
   ]
  },
  {
   "cell_type": "code",
   "execution_count": 134,
   "metadata": {},
   "outputs": [],
   "source": [
    "exper_sample_q1 = create_sample_distribution(exper_q1)"
   ]
  },
  {
   "cell_type": "markdown",
   "metadata": {},
   "source": [
    "#### Plot sampling data"
   ]
  },
  {
   "cell_type": "code",
   "execution_count": 135,
   "metadata": {},
   "outputs": [
    {
     "data": {
      "image/png": "[encoded data removed]",
      "text/plain": [
       "<Figure size 720x720 with 1 Axes>"
      ]
     },
     "metadata": {},
     "output_type": "display_data"
    }
   ],
   "source": [
    "plt.figure(figsize=(10, 10))\n",
    "sns.distplot(ctrl_sample_q1, label='no review')\n",
    "sns.set_color_codes(\"muted\")\n",
    "sns.distplot(exper_sample_q1, label='with review' )\n",
    "plt.title('no reviews vs with reviews after sampling',fontsize=20)\n",
    "plt.xlabel('price',fontsize=20)\n",
    "plt.legend();"
   ]
  },
  {
   "cell_type": "markdown",
   "metadata": {},
   "source": [
    "#### Cohen'd and p value"
   ]
  },
  {
   "cell_type": "code",
   "execution_count": 136,
   "metadata": {},
   "outputs": [],
   "source": [
    "p = scipy.stats.ttest_ind(ctrl_sample_q1, exper_sample_q1)[1]\n",
    "d = Cohen_d(np.array(ctrl_sample_q1), np.array(exper_sample_q1))"
   ]
  },
  {
   "cell_type": "code",
   "execution_count": 137,
   "metadata": {},
   "outputs": [
    {
     "name": "stdout",
     "output_type": "stream",
     "text": [
      "p value is 0.0 effect size is 0.5941428127474924\n",
      "It has a medium effect\n",
      "Reject Null Hypothesis\n"
     ]
    }
   ],
   "source": [
    "result_cohen_d_p(p, d)"
   ]
  },
  {
   "cell_type": "markdown",
   "metadata": {},
   "source": [
    "### Multiple comparison ANOVA"
   ]
  },
  {
   "cell_type": "markdown",
   "metadata": {},
   "source": [
    "#### check range of 'number of reviews'"
   ]
  },
  {
   "cell_type": "code",
   "execution_count": 138,
   "metadata": {
    "scrolled": true
   },
   "outputs": [
    {
     "data": {
      "image/png": "[encoded data removed]",
      "text/plain": [
       "<Figure size 864x288 with 1 Axes>"
      ]
     },
     "metadata": {},
     "output_type": "display_data"
    }
   ],
   "source": [
    "fig, ax = plt.subplots(figsize=(12,4))\n",
    "sns.boxplot(x = 'number_of_reviews', \n",
    "            data = airbnb_df_2019, \n",
    "            orient = 'h', \n",
    "            width = 0.8, \n",
    "            fliersize = 3, \n",
    "            showmeans=True, \n",
    "            ax = ax)\n",
    "plt.show()"
   ]
  },
  {
   "cell_type": "markdown",
   "metadata": {},
   "source": [
    "#### Create bins with range of 100 reviews"
   ]
  },
  {
   "cell_type": "markdown",
   "metadata": {},
   "source": [
    "we are going to gather the number of reviews with bin of 100 from 0 - 700"
   ]
  },
  {
   "cell_type": "code",
   "execution_count": 139,
   "metadata": {},
   "outputs": [],
   "source": [
    "df_binned = []\n",
    "df_binned.append(airbnb_df_2019[airbnb_df_2019['number_of_reviews']==0])\n",
    "for number in [0, 100,200,300,400,500,600]:\n",
    "    df_binned.append(airbnb_df_2019[(airbnb_df_2019['number_of_reviews']<= (number+100))&\n",
    "                      (airbnb_df_2019['number_of_reviews']>number)])"
   ]
  },
  {
   "cell_type": "code",
   "execution_count": 140,
   "metadata": {},
   "outputs": [
    {
     "name": "stdout",
     "output_type": "stream",
     "text": [
      "0 NormaltestResult(statistic=15323.958122834152, pvalue=0.0)\n",
      "1 NormaltestResult(statistic=53777.4135825594, pvalue=0.0)\n",
      "2 NormaltestResult(statistic=4950.352973444078, pvalue=0.0)\n",
      "3 NormaltestResult(statistic=933.2813252235303, pvalue=2.1904593397782015e-203)\n",
      "4 NormaltestResult(statistic=160.95634288731716, pvalue=1.1188560854930316e-35)\n",
      "5 NormaltestResult(statistic=61.25804468134577, pvalue=4.988668104668477e-14)\n",
      "6 NormaltestResult(statistic=3.291900273715706, pvalue=0.19282926153825192)\n",
      "7 NormaltestResult(statistic=1.7236107320707614, pvalue=0.4223988090679863)\n"
     ]
    },
    {
     "name": "stderr",
     "output_type": "stream",
     "text": [
      "/anaconda3/lib/python3.6/site-packages/scipy/stats/stats.py:1450: UserWarning: kurtosistest only valid for n>=20 ... continuing anyway, n=9\n",
      "  \"anyway, n=%i\" % int(n))\n"
     ]
    }
   ],
   "source": [
    "for n,df in enumerate(df_binned):\n",
    "    print(n,scipy.stats.normaltest(df['price']))"
   ]
  },
  {
   "cell_type": "code",
   "execution_count": 144,
   "metadata": {},
   "outputs": [],
   "source": [
    "df_sample=[]\n",
    "for n, df in enumerate(df_binned):\n",
    "    df_new = create_sample_distribution(df['price'])\n",
    "    df_sample.append([n,df_new])"
   ]
  },
  {
   "cell_type": "code",
   "execution_count": 172,
   "metadata": {},
   "outputs": [
    {
     "data": {
      "image/png": "[encoded data removed]",
      "text/plain": [
       "<Figure size 720x720 with 1 Axes>"
      ]
     },
     "metadata": {},
     "output_type": "display_data"
    }
   ],
   "source": [
    "plt.figure(figsize=(10, 10))\n",
    "sns.distplot(df_sample[0][1], label=0)\n",
    "for n,df in enumerate(df_sample[1:]):\n",
    "    sns.distplot(df[1], label=str(n*100)+'-'+str(n*100+100))\n",
    "plt.title('binned reviews after sampling',fontsize=20)\n",
    "plt.xlabel('price',fontsize=20)\n",
    "plt.legend();"
   ]
  },
  {
   "cell_type": "code",
   "execution_count": 202,
   "metadata": {},
   "outputs": [
    {
     "data": {
      "text/html": [
       "<div>\n",
       "<style scoped>\n",
       "    .dataframe tbody tr th:only-of-type {\n",
       "        vertical-align: middle;\n",
       "    }\n",
       "\n",
       "    .dataframe tbody tr th {\n",
       "        vertical-align: top;\n",
       "    }\n",
       "\n",
       "    .dataframe thead th {\n",
       "        text-align: right;\n",
       "    }\n",
       "</style>\n",
       "<table border=\"1\" class=\"dataframe\">\n",
       "  <thead>\n",
       "    <tr style=\"text-align: right;\">\n",
       "      <th></th>\n",
       "      <th>group</th>\n",
       "      <th>p</th>\n",
       "      <th>cohen'd</th>\n",
       "      <th>hypothesis state</th>\n",
       "    </tr>\n",
       "  </thead>\n",
       "  <tbody>\n",
       "    <tr>\n",
       "      <th>0</th>\n",
       "      <td>0,100-200</td>\n",
       "      <td>1.333130e-227</td>\n",
       "      <td>0.461576</td>\n",
       "      <td>Reject Null Hypothesis</td>\n",
       "    </tr>\n",
       "    <tr>\n",
       "      <th>1</th>\n",
       "      <td>0,200-300</td>\n",
       "      <td>0.000000e+00</td>\n",
       "      <td>3.283622</td>\n",
       "      <td>Reject Null Hypothesis</td>\n",
       "    </tr>\n",
       "    <tr>\n",
       "      <th>2</th>\n",
       "      <td>0,300-400</td>\n",
       "      <td>0.000000e+00</td>\n",
       "      <td>4.179234</td>\n",
       "      <td>Reject Null Hypothesis</td>\n",
       "    </tr>\n",
       "    <tr>\n",
       "      <th>3</th>\n",
       "      <td>0,400-500</td>\n",
       "      <td>0.000000e+00</td>\n",
       "      <td>4.466188</td>\n",
       "      <td>Reject Null Hypothesis</td>\n",
       "    </tr>\n",
       "    <tr>\n",
       "      <th>4</th>\n",
       "      <td>0,500-600</td>\n",
       "      <td>0.000000e+00</td>\n",
       "      <td>4.038765</td>\n",
       "      <td>Reject Null Hypothesis</td>\n",
       "    </tr>\n",
       "    <tr>\n",
       "      <th>5</th>\n",
       "      <td>0,600-700</td>\n",
       "      <td>0.000000e+00</td>\n",
       "      <td>4.256923</td>\n",
       "      <td>Reject Null Hypothesis</td>\n",
       "    </tr>\n",
       "    <tr>\n",
       "      <th>6</th>\n",
       "      <td>0,700-800</td>\n",
       "      <td>0.000000e+00</td>\n",
       "      <td>4.334903</td>\n",
       "      <td>Reject Null Hypothesis</td>\n",
       "    </tr>\n",
       "    <tr>\n",
       "      <th>7</th>\n",
       "      <td>0-100,100-200</td>\n",
       "      <td>0.000000e+00</td>\n",
       "      <td>2.984417</td>\n",
       "      <td>Reject Null Hypothesis</td>\n",
       "    </tr>\n",
       "    <tr>\n",
       "      <th>8</th>\n",
       "      <td>0-100,200-300</td>\n",
       "      <td>0.000000e+00</td>\n",
       "      <td>3.954168</td>\n",
       "      <td>Reject Null Hypothesis</td>\n",
       "    </tr>\n",
       "    <tr>\n",
       "      <th>9</th>\n",
       "      <td>0-100,300-400</td>\n",
       "      <td>0.000000e+00</td>\n",
       "      <td>4.276083</td>\n",
       "      <td>Reject Null Hypothesis</td>\n",
       "    </tr>\n",
       "    <tr>\n",
       "      <th>10</th>\n",
       "      <td>0-100,400-500</td>\n",
       "      <td>0.000000e+00</td>\n",
       "      <td>3.803264</td>\n",
       "      <td>Reject Null Hypothesis</td>\n",
       "    </tr>\n",
       "    <tr>\n",
       "      <th>11</th>\n",
       "      <td>0-100,500-600</td>\n",
       "      <td>0.000000e+00</td>\n",
       "      <td>4.051826</td>\n",
       "      <td>Reject Null Hypothesis</td>\n",
       "    </tr>\n",
       "    <tr>\n",
       "      <th>12</th>\n",
       "      <td>0-100,600-700</td>\n",
       "      <td>0.000000e+00</td>\n",
       "      <td>4.140473</td>\n",
       "      <td>Reject Null Hypothesis</td>\n",
       "    </tr>\n",
       "    <tr>\n",
       "      <th>13</th>\n",
       "      <td>100-200,200-300</td>\n",
       "      <td>0.000000e+00</td>\n",
       "      <td>0.886710</td>\n",
       "      <td>Reject Null Hypothesis</td>\n",
       "    </tr>\n",
       "    <tr>\n",
       "      <th>14</th>\n",
       "      <td>100-200,300-400</td>\n",
       "      <td>0.000000e+00</td>\n",
       "      <td>1.079884</td>\n",
       "      <td>Reject Null Hypothesis</td>\n",
       "    </tr>\n",
       "    <tr>\n",
       "      <th>15</th>\n",
       "      <td>100-200,400-500</td>\n",
       "      <td>0.000000e+00</td>\n",
       "      <td>0.637626</td>\n",
       "      <td>Reject Null Hypothesis</td>\n",
       "    </tr>\n",
       "    <tr>\n",
       "      <th>16</th>\n",
       "      <td>100-200,500-600</td>\n",
       "      <td>0.000000e+00</td>\n",
       "      <td>0.692596</td>\n",
       "      <td>Reject Null Hypothesis</td>\n",
       "    </tr>\n",
       "    <tr>\n",
       "      <th>17</th>\n",
       "      <td>100-200,600-700</td>\n",
       "      <td>0.000000e+00</td>\n",
       "      <td>0.752462</td>\n",
       "      <td>Reject Null Hypothesis</td>\n",
       "    </tr>\n",
       "    <tr>\n",
       "      <th>18</th>\n",
       "      <td>200-300,300-400</td>\n",
       "      <td>1.070675e-22</td>\n",
       "      <td>0.138849</td>\n",
       "      <td>Reject Null Hypothesis</td>\n",
       "    </tr>\n",
       "    <tr>\n",
       "      <th>19</th>\n",
       "      <td>200-300,400-500</td>\n",
       "      <td>4.167649e-107</td>\n",
       "      <td>0.312808</td>\n",
       "      <td>Reject Null Hypothesis</td>\n",
       "    </tr>\n",
       "    <tr>\n",
       "      <th>20</th>\n",
       "      <td>200-300,500-600</td>\n",
       "      <td>2.599260e-146</td>\n",
       "      <td>0.367820</td>\n",
       "      <td>Reject Null Hypothesis</td>\n",
       "    </tr>\n",
       "    <tr>\n",
       "      <th>21</th>\n",
       "      <td>200-300,600-700</td>\n",
       "      <td>1.157268e-113</td>\n",
       "      <td>0.322988</td>\n",
       "      <td>Reject Null Hypothesis</td>\n",
       "    </tr>\n",
       "    <tr>\n",
       "      <th>22</th>\n",
       "      <td>300-400,400-500</td>\n",
       "      <td>6.491769e-261</td>\n",
       "      <td>0.495571</td>\n",
       "      <td>Reject Null Hypothesis</td>\n",
       "    </tr>\n",
       "    <tr>\n",
       "      <th>23</th>\n",
       "      <td>300-400,500-600</td>\n",
       "      <td>0.000000e+00</td>\n",
       "      <td>0.600564</td>\n",
       "      <td>Reject Null Hypothesis</td>\n",
       "    </tr>\n",
       "    <tr>\n",
       "      <th>24</th>\n",
       "      <td>300-400,600-700</td>\n",
       "      <td>0.000000e+00</td>\n",
       "      <td>0.558740</td>\n",
       "      <td>Reject Null Hypothesis</td>\n",
       "    </tr>\n",
       "    <tr>\n",
       "      <th>25</th>\n",
       "      <td>400-500,500-600</td>\n",
       "      <td>3.910077e-01</td>\n",
       "      <td>0.012132</td>\n",
       "      <td>Failed to reject Null Hypothesis</td>\n",
       "    </tr>\n",
       "    <tr>\n",
       "      <th>26</th>\n",
       "      <td>400-500,600-700</td>\n",
       "      <td>1.279299e-03</td>\n",
       "      <td>0.045556</td>\n",
       "      <td>Reject Null Hypothesis</td>\n",
       "    </tr>\n",
       "    <tr>\n",
       "      <th>27</th>\n",
       "      <td>500-600,600-700</td>\n",
       "      <td>3.602348e-07</td>\n",
       "      <td>0.071995</td>\n",
       "      <td>Reject Null Hypothesis</td>\n",
       "    </tr>\n",
       "  </tbody>\n",
       "</table>\n",
       "</div>"
      ],
      "text/plain": [
       "              group              p   cohen'd                  hypothesis state\n",
       "0         0,100-200  1.333130e-227  0.461576            Reject Null Hypothesis\n",
       "1         0,200-300   0.000000e+00  3.283622            Reject Null Hypothesis\n",
       "2         0,300-400   0.000000e+00  4.179234            Reject Null Hypothesis\n",
       "3         0,400-500   0.000000e+00  4.466188            Reject Null Hypothesis\n",
       "4         0,500-600   0.000000e+00  4.038765            Reject Null Hypothesis\n",
       "5         0,600-700   0.000000e+00  4.256923            Reject Null Hypothesis\n",
       "6         0,700-800   0.000000e+00  4.334903            Reject Null Hypothesis\n",
       "7     0-100,100-200   0.000000e+00  2.984417            Reject Null Hypothesis\n",
       "8     0-100,200-300   0.000000e+00  3.954168            Reject Null Hypothesis\n",
       "9     0-100,300-400   0.000000e+00  4.276083            Reject Null Hypothesis\n",
       "10    0-100,400-500   0.000000e+00  3.803264            Reject Null Hypothesis\n",
       "11    0-100,500-600   0.000000e+00  4.051826            Reject Null Hypothesis\n",
       "12    0-100,600-700   0.000000e+00  4.140473            Reject Null Hypothesis\n",
       "13  100-200,200-300   0.000000e+00  0.886710            Reject Null Hypothesis\n",
       "14  100-200,300-400   0.000000e+00  1.079884            Reject Null Hypothesis\n",
       "15  100-200,400-500   0.000000e+00  0.637626            Reject Null Hypothesis\n",
       "16  100-200,500-600   0.000000e+00  0.692596            Reject Null Hypothesis\n",
       "17  100-200,600-700   0.000000e+00  0.752462            Reject Null Hypothesis\n",
       "18  200-300,300-400   1.070675e-22  0.138849            Reject Null Hypothesis\n",
       "19  200-300,400-500  4.167649e-107  0.312808            Reject Null Hypothesis\n",
       "20  200-300,500-600  2.599260e-146  0.367820            Reject Null Hypothesis\n",
       "21  200-300,600-700  1.157268e-113  0.322988            Reject Null Hypothesis\n",
       "22  300-400,400-500  6.491769e-261  0.495571            Reject Null Hypothesis\n",
       "23  300-400,500-600   0.000000e+00  0.600564            Reject Null Hypothesis\n",
       "24  300-400,600-700   0.000000e+00  0.558740            Reject Null Hypothesis\n",
       "25  400-500,500-600   3.910077e-01  0.012132  Failed to reject Null Hypothesis\n",
       "26  400-500,600-700   1.279299e-03  0.045556            Reject Null Hypothesis\n",
       "27  500-600,600-700   3.602348e-07  0.071995            Reject Null Hypothesis"
      ]
     },
     "execution_count": 202,
     "metadata": {},
     "output_type": "execute_result"
    }
   ],
   "source": [
    "results_p_d(df_sample)"
   ]
  },
  {
   "cell_type": "markdown",
   "metadata": {},
   "source": [
    "### Question: is there a statistical significance between length of titles and number of reviews? if so at which levels"
   ]
  },
  {
   "cell_type": "code",
   "execution_count": 56,
   "metadata": {},
   "outputs": [
    {
     "data": {
      "text/plain": [
       "array([ 6,  7,  5,  9,  4,  3,  8, 10,  2,  1, 11, 12, 42, 20, 15, 13, 27,\n",
       "       17, 14, 19, 18, 21, 26, 29, 45, 16, 31, 30, 23, 38, 48])"
      ]
     },
     "execution_count": 56,
     "metadata": {},
     "output_type": "execute_result"
    }
   ],
   "source": [
    "airbnb_df_2019['name_len'].unique()"
   ]
  },
  {
   "cell_type": "code",
   "execution_count": 57,
   "metadata": {},
   "outputs": [
    {
     "data": {
      "text/plain": [
       "16.0"
      ]
     },
     "execution_count": 57,
     "metadata": {},
     "output_type": "execute_result"
    }
   ],
   "source": [
    "np.median(airbnb_df_2019['name_len'].unique())"
   ]
  },
  {
   "cell_type": "markdown",
   "metadata": {},
   "source": [
    "We will create two groups: one has length below 16 letters, the other has length equal or above 16 letters"
   ]
  },
  {
   "cell_type": "code",
   "execution_count": 152,
   "metadata": {},
   "outputs": [
    {
     "data": {
      "image/png": "[encoded data removed]",
      "text/plain": [
       "<Figure size 864x288 with 1 Axes>"
      ]
     },
     "metadata": {},
     "output_type": "display_data"
    }
   ],
   "source": [
    "fig, ax = plt.subplots(figsize=(12,4))\n",
    "sns.boxplot(x = 'number_of_reviews', \n",
    "            data = airbnb_df_2019, \n",
    "            orient = 'h', \n",
    "            width = 0.8, \n",
    "            fliersize = 3, \n",
    "            showmeans=True, \n",
    "            ax = ax)\n",
    "plt.show()"
   ]
  },
  {
   "cell_type": "code",
   "execution_count": 153,
   "metadata": {},
   "outputs": [
    {
     "name": "stdout",
     "output_type": "stream",
     "text": [
      "0.9 quantile: 49.0\n",
      "0.91 quantile: 54.0\n",
      "0.92 quantile: 59.0\n",
      "0.93 quantile: 66.0\n",
      "0.94 quantile: 74.0\n",
      "0.95 quantile: 84.0\n",
      "0.96 quantile: 97.0\n",
      "0.97 quantile: 114.0\n",
      "0.98 quantile: 140.0\n",
      "0.99 quantile: 188.0\n",
      "1.0 quantile: 716.0\n"
     ]
    }
   ],
   "source": [
    "check_quantile(airbnb_df_2019['number_of_reviews'])"
   ]
  },
  {
   "cell_type": "code",
   "execution_count": 154,
   "metadata": {},
   "outputs": [],
   "source": [
    "outliers = airbnb_df_2019[(airbnb_df_2019['number_of_reviews'] >84)].index\n",
    "airbnb_df_2019.drop(outliers, inplace=True)"
   ]
  },
  {
   "cell_type": "code",
   "execution_count": 155,
   "metadata": {},
   "outputs": [
    {
     "data": {
      "image/png": "[encoded data removed]",
      "text/plain": [
       "<Figure size 720x720 with 1 Axes>"
      ]
     },
     "metadata": {},
     "output_type": "display_data"
    }
   ],
   "source": [
    "ctrl_q2 = airbnb_df_2019[airbnb_df_2019['name_len']<16]['number_of_reviews']\n",
    "exper_q2 = airbnb_df_2019[airbnb_df_2019['name_len']>=16]['number_of_reviews']\n",
    "\n",
    "plt.figure(figsize=(10, 10))\n",
    "sns.distplot(ctrl_q2, label='name len below 16')\n",
    "sns.set_color_codes(\"muted\")\n",
    "sns.distplot(exper_q2, label='name len equal or above 16' )\n",
    "plt.title('relationship between number of reviews and name length less/more than 16 letters',fontsize=20)\n",
    "plt.xlabel('number of reviews',fontsize=20)\n",
    "plt.legend();"
   ]
  },
  {
   "cell_type": "markdown",
   "metadata": {},
   "source": [
    "### Creat two sample T test"
   ]
  },
  {
   "cell_type": "markdown",
   "metadata": {},
   "source": [
    "#### Create sampling data"
   ]
  },
  {
   "cell_type": "code",
   "execution_count": 156,
   "metadata": {},
   "outputs": [
    {
     "data": {
      "text/plain": [
       "NormaltestResult(statistic=147127.6841126781, pvalue=0.0)"
      ]
     },
     "execution_count": 156,
     "metadata": {},
     "output_type": "execute_result"
    }
   ],
   "source": [
    "scipy.stats.normaltest(ctrl_q2)"
   ]
  },
  {
   "cell_type": "code",
   "execution_count": 157,
   "metadata": {},
   "outputs": [
    {
     "data": {
      "text/plain": [
       "NormaltestResult(statistic=17.707993927238867, pvalue=0.00014280978848140935)"
      ]
     },
     "execution_count": 157,
     "metadata": {},
     "output_type": "execute_result"
    }
   ],
   "source": [
    "scipy.stats.normaltest(exper_q2)"
   ]
  },
  {
   "cell_type": "code",
   "execution_count": 158,
   "metadata": {},
   "outputs": [],
   "source": [
    "ctrl_sample_q2 = create_sample_distribution(ctrl_q2)"
   ]
  },
  {
   "cell_type": "code",
   "execution_count": 159,
   "metadata": {},
   "outputs": [],
   "source": [
    "exper_sample_q2 = create_sample_distribution(exper_q2)"
   ]
  },
  {
   "cell_type": "markdown",
   "metadata": {},
   "source": [
    "#### Plot sampling data"
   ]
  },
  {
   "cell_type": "code",
   "execution_count": 160,
   "metadata": {},
   "outputs": [
    {
     "data": {
      "image/png": "[encoded data removed]",
      "text/plain": [
       "<Figure size 720x720 with 1 Axes>"
      ]
     },
     "metadata": {},
     "output_type": "display_data"
    }
   ],
   "source": [
    "plt.figure(figsize=(10, 10))\n",
    "sns.distplot(ctrl_sample_q2, label='name len below 16')\n",
    "sns.set_color_codes(\"muted\")\n",
    "sns.distplot(exper_sample_q2, label='name len equal or above 16' )\n",
    "plt.title('relationship between number of reviews and name length less/more than 16 letters',fontsize=20)\n",
    "plt.xlabel('number of reviews',fontsize=20)\n",
    "plt.legend();"
   ]
  },
  {
   "cell_type": "markdown",
   "metadata": {},
   "source": [
    "#### Cohen'd and p value"
   ]
  },
  {
   "cell_type": "code",
   "execution_count": 161,
   "metadata": {},
   "outputs": [],
   "source": [
    "p = scipy.stats.ttest_ind(ctrl_sample_q2, exper_sample_q2)[1]\n",
    "d = Cohen_d(np.array(ctrl_sample_q2), np.array(exper_sample_q2))"
   ]
  },
  {
   "cell_type": "code",
   "execution_count": 162,
   "metadata": {},
   "outputs": [
    {
     "name": "stdout",
     "output_type": "stream",
     "text": [
      "p value is 0.0 effect size is 2.1348958420788264\n",
      "It has a large effect\n",
      "Reject Null Hypothesis\n"
     ]
    }
   ],
   "source": [
    "result_cohen_d_p(p, d)"
   ]
  },
  {
   "cell_type": "markdown",
   "metadata": {},
   "source": [
    "### Summary"
   ]
  },
  {
   "cell_type": "markdown",
   "metadata": {},
   "source": [
    "The length of name has significance with number of reviews (length with less/more than 16 characters). From the chart above, name with length of less than 16 characters has higher mean value of review numbers. Therefore, we suggest host to post title with less characters."
   ]
  },
  {
   "cell_type": "code",
   "execution_count": null,
   "metadata": {},
   "outputs": [],
   "source": []
  }
 ],
 "metadata": {
  "kernelspec": {
   "display_name": "Python 3",
   "language": "python",
   "name": "python3"
  },
  "language_info": {
   "codemirror_mode": {
    "name": "ipython",
    "version": 3
   },
   "file_extension": ".py",
   "mimetype": "text/x-python",
   "name": "python",
   "nbconvert_exporter": "python",
   "pygments_lexer": "ipython3",
   "version": "3.6.8"
  }
 },
 "nbformat": 4,
 "nbformat_minor": 2
}
